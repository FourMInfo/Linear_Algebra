{
 "cells": [
  {
   "cell_type": "markdown",
   "metadata": {},
   "source": [
    "# General Stuff"
   ]
  },
  {
   "cell_type": "code",
   "execution_count": 78,
   "metadata": {},
   "outputs": [
    {
     "data": {
      "text/plain": [
       "rationalize"
      ]
     },
     "metadata": {},
     "output_type": "display_data"
    }
   ],
   "source": [
    "include(\"/Users/aron/Code/Study/Julia/Math/Linear_Algebra/src/linear_algebra_basic.jl\")"
   ]
  },
  {
   "cell_type": "markdown",
   "metadata": {},
   "source": [
    "Matrix * Vector"
   ]
  },
  {
   "cell_type": "code",
   "execution_count": 79,
   "metadata": {},
   "outputs": [
    {
     "data": {
      "text/plain": [
       "2-element Vector{Int64}:\n",
       " 11\n",
       " 16"
      ]
     },
     "metadata": {},
     "output_type": "display_data"
    }
   ],
   "source": [
    "A = [5 6; 7 9]\n",
    "v = [1,1]\n",
    "A * v "
   ]
  },
  {
   "cell_type": "code",
   "execution_count": 80,
   "metadata": {},
   "outputs": [
    {
     "data": {
      "text/plain": [
       "2-element Vector{Float64}:\n",
       " 5.0\n",
       " 3.141592653589793"
      ]
     },
     "metadata": {},
     "output_type": "display_data"
    }
   ],
   "source": [
    "A = [1 0; 0 1]\n",
    "v = [5,π]\n",
    "A*v"
   ]
  },
  {
   "cell_type": "code",
   "execution_count": 81,
   "metadata": {},
   "outputs": [
    {
     "data": {
      "text/latex": [
       "$$ \\begin{equation}\n",
       "\\left[\n",
       "\\begin{array}{c}\n",
       "0 \\\\\n",
       "2 x + 2 y \\\\\n",
       "\\end{array}\n",
       "\\right]\n",
       "\\end{equation}\n",
       " $$"
      ],
      "text/plain": [
       "2-element Vector{Num}:\n",
       "       0\n",
       " 2x + 2y"
      ]
     },
     "metadata": {},
     "output_type": "display_data"
    }
   ],
   "source": [
    "@variables x y\n",
    "A = [0 0; 2 2]\n",
    "v = [x, y]\n",
    "A * v"
   ]
  },
  {
   "cell_type": "code",
   "execution_count": 82,
   "metadata": {},
   "outputs": [
    {
     "data": {
      "text/latex": [
       "$$ \\begin{equation}\n",
       "\\left[\n",
       "\\begin{array}{c}\n",
       "5 x + 6 y \\\\\n",
       "7 x + 8 y \\\\\n",
       "\\end{array}\n",
       "\\right]\n",
       "\\end{equation}\n",
       " $$"
      ],
      "text/plain": [
       "2-element Vector{Num}:\n",
       " 5x + 6y\n",
       " 7x + 8y"
      ]
     },
     "metadata": {},
     "output_type": "display_data"
    }
   ],
   "source": [
    "@variables x y\n",
    "A = [5 6; 7 8]\n",
    "v = [x, y]\n",
    "A * v"
   ]
  },
  {
   "cell_type": "code",
   "execution_count": 83,
   "metadata": {},
   "outputs": [
    {
     "data": {
      "text/latex": [
       "$$ \\begin{equation}\n",
       "\\left[\n",
       "\\begin{array}{c}\n",
       "0 \\\\\n",
       "0 \\\\\n",
       "\\end{array}\n",
       "\\right]\n",
       "\\end{equation}\n",
       " $$"
      ],
      "text/plain": [
       "2-element Vector{Num}:\n",
       " 0\n",
       " 0"
      ]
     },
     "metadata": {},
     "output_type": "display_data"
    }
   ],
   "source": [
    "@variables a b c d\n",
    "A = [a b; c d]\n",
    "v = [0,0]\n",
    "A *v"
   ]
  },
  {
   "cell_type": "code",
   "execution_count": 84,
   "metadata": {},
   "outputs": [
    {
     "data": {
      "text/latex": [
       "$$ \\begin{equation}\n",
       "\\left[\n",
       "\\begin{array}{c}\n",
       "p x + q y \\\\\n",
       "r x + s y \\\\\n",
       "\\end{array}\n",
       "\\right]\n",
       "\\end{equation}\n",
       " $$"
      ],
      "text/plain": [
       "2-element Vector{Num}:\n",
       " p*x + q*y\n",
       " r*x + s*y"
      ]
     },
     "metadata": {},
     "output_type": "display_data"
    }
   ],
   "source": [
    "@variables p q r s x y\n",
    "A = [p q; r s]\n",
    "v = [x,y]\n",
    "A*v"
   ]
  },
  {
   "cell_type": "code",
   "execution_count": 85,
   "metadata": {},
   "outputs": [
    {
     "data": {
      "text/latex": [
       "$$ \\begin{equation}\n",
       "\\left[\n",
       "\\begin{array}{c}\n",
       "a \\left( x + \\mathtt{\\bar{x}} \\right) + b \\left( y + \\bar{y} \\right) \\\\\n",
       "c \\left( x + \\mathtt{\\bar{x}} \\right) + d \\left( y + \\bar{y} \\right) \\\\\n",
       "\\end{array}\n",
       "\\right]\n",
       "\\end{equation}\n",
       " $$"
      ],
      "text/plain": [
       "2-element Vector{Num}:\n",
       " a*(x + x̄) + b*(y + ȳ)\n",
       " c*(x + x̄) + d*(y + ȳ)"
      ]
     },
     "metadata": {},
     "output_type": "display_data"
    }
   ],
   "source": [
    "@variables a b c d x y x̄ ȳ\n",
    "A = [a b; c d]\n",
    "XplusX̄ = [x + x̄, y + ȳ]\n",
    "AX = A * XplusX̄\n",
    "#AX=simplify([dot([A[1],A[3]], XplusX̄), dot([A[2],A[4]], XplusX̄)], expand = true)"
   ]
  },
  {
   "cell_type": "code",
   "execution_count": 86,
   "metadata": {},
   "outputs": [
    {
     "data": {
      "text/latex": [
       "$$ \\begin{equation}\n",
       "\\left[\n",
       "\\begin{array}{c}\n",
       "a \\left( x + \\mathtt{\\bar{x}} \\right) + b y + b \\bar{y} \\\\\n",
       "c \\left( x + \\mathtt{\\bar{x}} \\right) + d y + d \\bar{y} \\\\\n",
       "\\end{array}\n",
       "\\right]\n",
       "\\end{equation}\n",
       " $$"
      ],
      "text/plain": [
       "2-element Vector{Num}:\n",
       " a*(x + x̄) + b*y + b*ȳ\n",
       " c*(x + x̄) + d*y + d*ȳ"
      ]
     },
     "metadata": {},
     "output_type": "display_data"
    }
   ],
   "source": [
    "@variables a b c d x y x̄ ȳ\n",
    "A = [a b; c d]\n",
    "x₁ = [x, y]\n",
    "x₂ = [x̄, ȳ]\n",
    "AX̄T = (A * x₁) + (A * x₂)\n",
    "AX̄ = [simplify(AX̄T[1], expand=true), simplify(AX̄T[2], expand=true)]"
   ]
  },
  {
   "cell_type": "markdown",
   "metadata": {},
   "source": [
    "Since cant simplify equality doesn't work"
   ]
  },
  {
   "cell_type": "code",
   "execution_count": 87,
   "metadata": {},
   "outputs": [
    {
     "data": {
      "text/plain": [
       "false"
      ]
     },
     "metadata": {},
     "output_type": "display_data"
    }
   ],
   "source": [
    "isequal(AX ,AX̄)"
   ]
  },
  {
   "cell_type": "code",
   "execution_count": 88,
   "metadata": {},
   "outputs": [
    {
     "data": {
      "text/latex": [
       "$$ \\begin{equation}\n",
       "\\left[\n",
       "\\begin{array}{c}\n",
       "a t x + b t y \\\\\n",
       "c t x + d t y \\\\\n",
       "\\end{array}\n",
       "\\right]\n",
       "\\end{equation}\n",
       " $$"
      ],
      "text/plain": [
       "2-element Vector{Num}:\n",
       " a*t*x + b*t*y\n",
       " c*t*x + d*t*y"
      ]
     },
     "metadata": {},
     "output_type": "display_data"
    }
   ],
   "source": [
    "@variables t\n",
    "AtX = simplify(A * (t*x₁), expand = true)"
   ]
  },
  {
   "cell_type": "code",
   "execution_count": 89,
   "metadata": {},
   "outputs": [
    {
     "data": {
      "text/latex": [
       "$$ \\begin{equation}\n",
       "\\left[\n",
       "\\begin{array}{c}\n",
       "\\left( a x + b y \\right) t \\\\\n",
       "\\left( c x + d y \\right) t \\\\\n",
       "\\end{array}\n",
       "\\right]\n",
       "\\end{equation}\n",
       " $$"
      ],
      "text/plain": [
       "2-element Vector{Num}:\n",
       " (a*x + b*y)*t\n",
       " (c*x + d*y)*t"
      ]
     },
     "metadata": {},
     "output_type": "display_data"
    }
   ],
   "source": [
    "tAX = t * (A*x₁)"
   ]
  },
  {
   "cell_type": "markdown",
   "metadata": {},
   "source": [
    "Since cant simplify equality doesn't work"
   ]
  },
  {
   "cell_type": "code",
   "execution_count": 90,
   "metadata": {},
   "outputs": [
    {
     "data": {
      "text/plain": [
       "false"
      ]
     },
     "metadata": {},
     "output_type": "display_data"
    }
   ],
   "source": [
    "isequal(AtX,tAX)"
   ]
  },
  {
   "cell_type": "markdown",
   "metadata": {},
   "source": [
    "# Linear Map"
   ]
  },
  {
   "cell_type": "code",
   "execution_count": 91,
   "metadata": {},
   "outputs": [
    {
     "data": {
      "text/plain": [
       "reflection_matrix_rational"
      ]
     },
     "metadata": {},
     "output_type": "display_data"
    }
   ],
   "source": [
    "include(\"/Users/aron/Code/Study/Julia/Math/Linear_Algebra/src/linear_algebra_transform.jl\")"
   ]
  },
  {
   "cell_type": "markdown",
   "metadata": {},
   "source": [
    "Compute matrix of orthogonal projection of basis vectors on line along vector V"
   ]
  },
  {
   "cell_type": "code",
   "execution_count": 92,
   "metadata": {},
   "outputs": [
    {
     "data": {
      "text/latex": [
       "$$ \\begin{equation}\n",
       "\\left[\n",
       "\\begin{array}{cc}\n",
       "\\frac{u^{2}}{\\left( \\sqrt{\\left|u\\right|^{2} + \\left|v\\right|^{2}} \\right)^{2}} & \\frac{u v}{\\left( \\sqrt{\\left|u\\right|^{2} + \\left|v\\right|^{2}} \\right)^{2}} \\\\\n",
       "\\frac{u v}{\\left( \\sqrt{\\left|u\\right|^{2} + \\left|v\\right|^{2}} \\right)^{2}} & \\frac{v^{2}}{\\left( \\sqrt{\\left|u\\right|^{2} + \\left|v\\right|^{2}} \\right)^{2}} \\\\\n",
       "\\end{array}\n",
       "\\right]\n",
       "\\end{equation}\n",
       " $$"
      ],
      "text/plain": [
       "2×2 Matrix{Num}:\n",
       " (u^2) / (sqrt(abs2(u) + abs2(v))^2)  (u*v) / (sqrt(abs2(u) + abs2(v))^2)\n",
       " (u*v) / (sqrt(abs2(u) + abs2(v))^2)  (v^2) / (sqrt(abs2(u) + abs2(v))^2)"
      ]
     },
     "metadata": {},
     "output_type": "display_data"
    }
   ],
   "source": [
    "@variables u v\n",
    "x = [u, v]\n",
    "e₁ = [1, 0]\n",
    "e₂ = [0, 1]\n",
    "P = [permutedims(orthproj(x, e₁)); permutedims(orthproj(x, e₂))]"
   ]
  },
  {
   "cell_type": "markdown",
   "metadata": {},
   "source": [
    "Rotation of 45 degrees around x axis"
   ]
  },
  {
   "cell_type": "code",
   "execution_count": 93,
   "metadata": {},
   "outputs": [
    {
     "data": {
      "text/plain": [
       "2×2 Matrix{Float64}:\n",
       " 0.707107  -0.707107\n",
       " 0.707107   0.707107"
      ]
     },
     "metadata": {},
     "output_type": "display_data"
    }
   ],
   "source": [
    "e₁ = [1, 0]\n",
    "e₂ = [0, 1]\n",
    "x = [1, 0]\n",
    "R = [rotation(45, e₁)  rotation(45, e₂)]\n",
    "\n",
    "\n"
   ]
  },
  {
   "cell_type": "code",
   "execution_count": 94,
   "metadata": {},
   "outputs": [
    {
     "data": {
      "text/latex": [
       "$$ \\begin{equation}\n",
       "\\left[\n",
       "\\begin{array}{cc}\n",
       "\\cos\\left( \\theta \\right) &  - \\sin\\left( \\theta \\right) \\\\\n",
       "\\sin\\left( \\theta \\right) & \\cos\\left( \\theta \\right) \\\\\n",
       "\\end{array}\n",
       "\\right]\n",
       "\\end{equation}\n",
       " $$"
      ],
      "text/plain": [
       "2×2 Matrix{Num}:\n",
       " cos(θ)  -sin(θ)\n",
       " sin(θ)   cos(θ)"
      ]
     },
     "metadata": {},
     "output_type": "display_data"
    }
   ],
   "source": [
    "rotation_matrix_symbolic()"
   ]
  },
  {
   "cell_type": "markdown",
   "metadata": {},
   "source": [
    "Rotation matrix rotates vector by θ degrees"
   ]
  },
  {
   "cell_type": "code",
   "execution_count": 95,
   "metadata": {},
   "outputs": [
    {
     "data": {
      "text/plain": [
       "2×2 Matrix{Float64}:\n",
       " 0.707107  -0.707107\n",
       " 0.707107   0.707107"
      ]
     },
     "metadata": {},
     "output_type": "display_data"
    }
   ],
   "source": [
    "R = rotation_matrix(45)"
   ]
  },
  {
   "cell_type": "code",
   "execution_count": 96,
   "metadata": {},
   "outputs": [
    {
     "data": {
      "text/plain": [
       "2-element Vector{Float64}:\n",
       " 0.7071067811865476\n",
       " 0.7071067811865475"
      ]
     },
     "metadata": {},
     "output_type": "display_data"
    }
   ],
   "source": [
    "R * [1, 0]"
   ]
  },
  {
   "cell_type": "code",
   "execution_count": 97,
   "metadata": {},
   "outputs": [
    {
     "data": {
      "text/plain": [
       "2×2 Matrix{Float64}:\n",
       " 0.0  -1.0\n",
       " 1.0   0.0"
      ]
     },
     "metadata": {},
     "output_type": "display_data"
    }
   ],
   "source": [
    "R = round.(rotation_matrix(90))\n"
   ]
  },
  {
   "cell_type": "markdown",
   "metadata": {},
   "source": [
    "If rotate x-axis by 90 degrees we get to y-axis"
   ]
  },
  {
   "cell_type": "code",
   "execution_count": 98,
   "metadata": {},
   "outputs": [
    {
     "data": {
      "text/plain": [
       "2-element Vector{Float64}:\n",
       " 0.0\n",
       " 1.0"
      ]
     },
     "metadata": {},
     "output_type": "display_data"
    }
   ],
   "source": [
    "R * [1, 0]"
   ]
  },
  {
   "cell_type": "code",
   "execution_count": 99,
   "metadata": {},
   "outputs": [
    {
     "data": {
      "text/plain": [
       "2-element Vector{Float64}:\n",
       " 0.0\n",
       " 5.0"
      ]
     },
     "metadata": {},
     "output_type": "display_data"
    }
   ],
   "source": [
    "R * [5, 0]"
   ]
  },
  {
   "cell_type": "code",
   "execution_count": 100,
   "metadata": {},
   "outputs": [
    {
     "name": "stdout",
     "output_type": "stream",
     "text": [
      "a₁ = [2,1] and a₂ = [-2,4]\n",
      "calculate using v = [1/2,1]\n",
      "[-1.0, 4.5]\n",
      "calculate using e₁\n",
      "[2, 1]\n",
      "e₁ is transformed into a₁? true\n",
      "calculate using e₂\n",
      "[-2, 4]\n",
      "e₂ is transformed into a₂? true\n"
     ]
    }
   ],
   "source": [
    "#Change of Basis\n",
    "println(\"a₁ = [2,1] and a₂ = [-2,4]\")\n",
    "a₁ = [2,1]\n",
    "a₂ = [-2,4]\n",
    "v = [1/2,1]\n",
    "println(\"calculate using v = [1/2,1]\")\n",
    "v′ = (v[1] * a₁) + (v[2] * a₂)\n",
    "println(v′)\n",
    "println(\"calculate using e₁\")\n",
    "e₁ = [1,0]\n",
    "v′ = (e₁[1] * a₁) + (e₁[2] * a₂)\n",
    "println(v′)\n",
    "println(\"e₁ is transformed into a₁? \",a₁ == v′ )\n",
    "println(\"calculate using e₂\")\n",
    "e₂ = [0,1]\n",
    "v′ = (e₂[1] * a₁) + (e₂[2] * a₂)\n",
    "println(v′)\n",
    "println(\"e₂ is transformed into a₂? \",a₂ == v′ )\n"
   ]
  },
  {
   "cell_type": "markdown",
   "metadata": {},
   "source": [
    "Matrix Transpose"
   ]
  },
  {
   "cell_type": "code",
   "execution_count": 102,
   "metadata": {},
   "outputs": [
    {
     "name": "stdout",
     "output_type": "stream",
     "text": [
      "Matrix A is [2 -2; 1 4]\n",
      "Matrix Aᵀ is [2 1; -2 4]\n"
     ]
    }
   ],
   "source": [
    "a₁ = [2,1]\n",
    "a₂ = [-2,4]\n",
    "A = [a₁ a₂]\n",
    "println(\"Matrix A is \", A)\n",
    "Aᵀ = transpose(A)\n",
    "println(\"Matrix Aᵀ is \", Aᵀ)\n"
   ]
  },
  {
   "cell_type": "code",
   "execution_count": 103,
   "metadata": {},
   "outputs": [
    {
     "data": {
      "text/plain": [
       "true"
      ]
     },
     "metadata": {},
     "output_type": "display_data"
    }
   ],
   "source": [
    "A = [-1 1/2; 0 -1/2]\n",
    "u = [1,2]\n",
    "v = [-1,4]\n",
    "c = 2\n",
    "A * (c * u) == c * (A * u)"
   ]
  },
  {
   "cell_type": "code",
   "execution_count": 104,
   "metadata": {},
   "outputs": [
    {
     "name": "stdout",
     "output_type": "stream",
     "text": [
      "full calculation of projection matrix: [0.2 0.4; 0.4 0.8]\n",
      "transpose calculation of projection matrix: [0.2 0.4; 0.4 0.8]\n"
     ]
    }
   ],
   "source": [
    "u = [1,2]\n",
    "println(\"full calculation of projection matrix: \",round.(projection_matrix(u), digits=3))\n",
    "println(\"transpose calculation of projection matrix: \", projection_matrix_transpose(u))"
   ]
  },
  {
   "cell_type": "markdown",
   "metadata": {},
   "source": [
    "Linear Map Composition"
   ]
  },
  {
   "cell_type": "code",
   "execution_count": 105,
   "metadata": {},
   "outputs": [
    {
     "name": "stdout",
     "output_type": "stream",
     "text": [
      "Apply A to v then B to result & get vector [6, 9]\n",
      "Compose B and A and apply to v to get [6, 9]\n",
      "results are the same: true\n"
     ]
    }
   ],
   "source": [
    "A = [-1 2; 0 3]\n",
    "B = [0 -2; -3 1]\n",
    "v = [2, -1]\n",
    "v′ = A * v\n",
    "v′′ = B * v′\n",
    "println(\"Apply A to v then B to result & get vector \", v′′)\n",
    "C = B * A\n",
    "v′′′ = C * v\n",
    "println(\"Compose B and A and apply to v to get \", v′′′)\n",
    "println(\"results are the same: \", v′′′ == v′′)"
   ]
  },
  {
   "cell_type": "markdown",
   "metadata": {},
   "source": [
    "Rotation is Commutative"
   ]
  },
  {
   "cell_type": "code",
   "execution_count": 106,
   "metadata": {},
   "outputs": [
    {
     "name": "stdout",
     "output_type": "stream",
     "text": [
      "Order of rotation doesn't matter: true\n"
     ]
    }
   ],
   "source": [
    "v = [2, -1]\n",
    "R1 = rotation_matrix_ns(30)\n",
    "R2 = rotation_matrix_ns(20)\n",
    "v′′ = R1 * R2 * v\n",
    "v′ = R2 * R1 * v\n",
    "println(\"Order of rotation doesn't matter: \",v′ ≈ v′)"
   ]
  },
  {
   "cell_type": "markdown",
   "metadata": {},
   "source": [
    "Rank and Compoition"
   ]
  },
  {
   "cell_type": "code",
   "execution_count": 107,
   "metadata": {},
   "outputs": [
    {
     "name": "stdout",
     "output_type": "stream",
     "text": [
      "Rank A :2\n",
      "Rank B :2\n",
      "Rank A*B :2\n",
      "Rank C :1\n",
      "Rank A*C :1\n"
     ]
    }
   ],
   "source": [
    "A = [-0.5 0.866; -0.866 -0.5]\n",
    "B = [1 0; 0 -1]\n",
    "println(\"Rank A :\",rank(A))\n",
    "println(\"Rank B :\",rank(B))\n",
    "println(\"Rank A*B :\",rank(A*B))\n",
    "C = [2 8; 4 16]\n",
    "println(\"Rank C :\",rank(C))\n",
    "println(\"Rank A*C :\",rank(A*C))"
   ]
  },
  {
   "cell_type": "markdown",
   "metadata": {},
   "source": [
    "Reduced Rank Projection is Idempotent"
   ]
  },
  {
   "cell_type": "code",
   "execution_count": 108,
   "metadata": {},
   "outputs": [
    {
     "name": "stdout",
     "output_type": "stream",
     "text": [
      "Rank projection matrix P: 1\n",
      "Rank P*P: 1\n",
      "P*v: [0.0, 0.0]\n",
      "P*P*v: [0.0, 0.0]\n",
      "P ==P*P: true\n"
     ]
    }
   ],
   "source": [
    " u = [1,2]\n",
    " projection_matrix(u)\n",
    "P = projection_matrix(u)\n",
    "println(\"Rank projection matrix P: \",rank(P))\n",
    "println(\"Rank P*P: \",rank(P*P))\n",
    "v = [2,-1]\n",
    "println(\"P*v: \",P*v)\n",
    "println(\"P*P*v: \",P*P*v)\n",
    "println(\"P ==P*P: \",P ≈ P*P)"
   ]
  }
 ],
 "metadata": {
  "kernelspec": {
   "display_name": "Julia 1.11.2",
   "language": "julia",
   "name": "julia-1.11"
  },
  "language_info": {
   "file_extension": ".jl",
   "mimetype": "application/julia",
   "name": "julia",
   "version": "1.11.2"
  }
 },
 "nbformat": 4,
 "nbformat_minor": 2
}
