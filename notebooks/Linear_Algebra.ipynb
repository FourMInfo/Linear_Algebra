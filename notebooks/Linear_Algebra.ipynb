{
 "cells": [
  {
   "cell_type": "markdown",
   "metadata": {},
   "source": [
    "# General Stuff"
   ]
  },
  {
   "cell_type": "code",
   "execution_count": 2,
   "metadata": {},
   "outputs": [],
   "source": [
    "# Set up Revise.jl for automatic code reloading\n",
    "# This only needs to be run once at the beginning of your notebook session\n",
    "using Revise\n",
    "using DrWatson\n",
    "\n",
    "# Activate the project\n",
    "quickactivate(@__DIR__, \"Math_Foundations\")\n",
    "\n",
    "# Load the package \n",
    "using Linear_Algebra"
   ]
  },
  {
   "cell_type": "markdown",
   "metadata": {},
   "source": [
    "### Matrix * Vector"
   ]
  },
  {
   "cell_type": "code",
   "execution_count": 16,
   "metadata": {},
   "outputs": [
    {
     "data": {
      "text/plain": [
       "2-element Vector{Int64}:\n",
       " 11\n",
       " 16"
      ]
     },
     "metadata": {},
     "output_type": "display_data"
    }
   ],
   "source": [
    "A = [5 6; 7 9]\n",
    "v = [1,1]\n",
    "A * v "
   ]
  },
  {
   "cell_type": "code",
   "execution_count": 4,
   "metadata": {},
   "outputs": [
    {
     "data": {
      "text/plain": [
       "2-element Vector{Float64}:\n",
       " 5.0\n",
       " 3.141592653589793"
      ]
     },
     "metadata": {},
     "output_type": "display_data"
    }
   ],
   "source": [
    "A = [1 0; 0 1]\n",
    "v = [5,π]\n",
    "A*v"
   ]
  },
  {
   "cell_type": "code",
   "execution_count": 5,
   "metadata": {},
   "outputs": [
    {
     "data": {
      "text/latex": [
       "$$ \\begin{equation}\n",
       "\\left[\n",
       "\\begin{array}{c}\n",
       "0 \\\\\n",
       "2 x + 2 y \\\\\n",
       "\\end{array}\n",
       "\\right]\n",
       "\\end{equation}\n",
       " $$"
      ],
      "text/plain": [
       "2-element Vector{Num}:\n",
       "       0\n",
       " 2x + 2y"
      ]
     },
     "metadata": {},
     "output_type": "display_data"
    }
   ],
   "source": [
    "@variables x y\n",
    "A = [0 0; 2 2]\n",
    "v = [x, y]\n",
    "A * v"
   ]
  },
  {
   "cell_type": "code",
   "execution_count": 7,
   "metadata": {},
   "outputs": [
    {
     "data": {
      "text/latex": [
       "$$ \\begin{equation}\n",
       "\\left[\n",
       "\\begin{array}{c}\n",
       "5 x + 6 y \\\\\n",
       "7 x + 8 y \\\\\n",
       "\\end{array}\n",
       "\\right]\n",
       "\\end{equation}\n",
       " $$"
      ],
      "text/plain": [
       "2-element Vector{Num}:\n",
       " 5x + 6y\n",
       " 7x + 8y"
      ]
     },
     "metadata": {},
     "output_type": "display_data"
    }
   ],
   "source": [
    "@variables x y\n",
    "A = [5 6; 7 8]\n",
    "v = [x, y]\n",
    "A * v"
   ]
  },
  {
   "cell_type": "code",
   "execution_count": 8,
   "metadata": {},
   "outputs": [
    {
     "data": {
      "text/latex": [
       "$$ \\begin{equation}\n",
       "\\left[\n",
       "\\begin{array}{c}\n",
       "0 \\\\\n",
       "0 \\\\\n",
       "\\end{array}\n",
       "\\right]\n",
       "\\end{equation}\n",
       " $$"
      ],
      "text/plain": [
       "2-element Vector{Num}:\n",
       " 0\n",
       " 0"
      ]
     },
     "metadata": {},
     "output_type": "display_data"
    }
   ],
   "source": [
    "@variables a b c d\n",
    "A = [a b; c d]\n",
    "v = [0,0]\n",
    "A *v"
   ]
  },
  {
   "cell_type": "code",
   "execution_count": 9,
   "metadata": {},
   "outputs": [
    {
     "data": {
      "text/latex": [
       "$$ \\begin{equation}\n",
       "\\left[\n",
       "\\begin{array}{c}\n",
       "p x + q y \\\\\n",
       "r x + s y \\\\\n",
       "\\end{array}\n",
       "\\right]\n",
       "\\end{equation}\n",
       " $$"
      ],
      "text/plain": [
       "2-element Vector{Num}:\n",
       " p*x + q*y\n",
       " r*x + s*y"
      ]
     },
     "metadata": {},
     "output_type": "display_data"
    }
   ],
   "source": [
    "@variables p q r s x y\n",
    "A = [p q; r s]\n",
    "v = [x,y]\n",
    "A*v"
   ]
  },
  {
   "cell_type": "code",
   "execution_count": 10,
   "metadata": {},
   "outputs": [
    {
     "data": {
      "text/latex": [
       "$$ \\begin{equation}\n",
       "\\left[\n",
       "\\begin{array}{c}\n",
       "a \\left( x + \\mathtt{\\bar{x}} \\right) + b \\left( y + \\bar{y} \\right) \\\\\n",
       "c \\left( x + \\mathtt{\\bar{x}} \\right) + d \\left( y + \\bar{y} \\right) \\\\\n",
       "\\end{array}\n",
       "\\right]\n",
       "\\end{equation}\n",
       " $$"
      ],
      "text/plain": [
       "2-element Vector{Num}:\n",
       " a*(x + x̄) + b*(y + ȳ)\n",
       " c*(x + x̄) + d*(y + ȳ)"
      ]
     },
     "metadata": {},
     "output_type": "display_data"
    }
   ],
   "source": [
    "@variables a b c d x y x̄ ȳ\n",
    "A = [a b; c d]\n",
    "XplusX̄ = [x + x̄, y + ȳ]\n",
    "AX = A * XplusX̄\n",
    "#AX=simplify([dot([A[1],A[3]], XplusX̄), dot([A[2],A[4]], XplusX̄)], expand = true)"
   ]
  },
  {
   "cell_type": "code",
   "execution_count": 11,
   "metadata": {},
   "outputs": [
    {
     "data": {
      "text/latex": [
       "$$ \\begin{equation}\n",
       "\\left[\n",
       "\\begin{array}{c}\n",
       "a \\left( x + \\mathtt{\\bar{x}} \\right) + b y + b \\bar{y} \\\\\n",
       "c \\left( x + \\mathtt{\\bar{x}} \\right) + d y + d \\bar{y} \\\\\n",
       "\\end{array}\n",
       "\\right]\n",
       "\\end{equation}\n",
       " $$"
      ],
      "text/plain": [
       "2-element Vector{Num}:\n",
       " a*(x + x̄) + b*y + b*ȳ\n",
       " c*(x + x̄) + d*y + d*ȳ"
      ]
     },
     "metadata": {},
     "output_type": "display_data"
    }
   ],
   "source": [
    "@variables a b c d x y x̄ ȳ\n",
    "A = [a b; c d]\n",
    "x₁ = [x, y]\n",
    "x₂ = [x̄, ȳ]\n",
    "AX̄T = (A * x₁) + (A * x₂)\n",
    "AX̄ = [simplify(AX̄T[1], expand=true), simplify(AX̄T[2], expand=true)]"
   ]
  },
  {
   "cell_type": "markdown",
   "metadata": {},
   "source": [
    "Since cant simplify equality doesn't work"
   ]
  },
  {
   "cell_type": "code",
   "execution_count": 12,
   "metadata": {},
   "outputs": [
    {
     "data": {
      "text/plain": [
       "false"
      ]
     },
     "metadata": {},
     "output_type": "display_data"
    }
   ],
   "source": [
    "isequal(AX ,AX̄)"
   ]
  },
  {
   "cell_type": "code",
   "execution_count": 13,
   "metadata": {},
   "outputs": [
    {
     "data": {
      "text/latex": [
       "$$ \\begin{equation}\n",
       "\\left[\n",
       "\\begin{array}{c}\n",
       "a t x + b t y \\\\\n",
       "c t x + d t y \\\\\n",
       "\\end{array}\n",
       "\\right]\n",
       "\\end{equation}\n",
       " $$"
      ],
      "text/plain": [
       "2-element Vector{Num}:\n",
       " a*t*x + b*t*y\n",
       " c*t*x + d*t*y"
      ]
     },
     "metadata": {},
     "output_type": "display_data"
    }
   ],
   "source": [
    "@variables t\n",
    "AtX = simplify(A * (t*x₁), expand = true)"
   ]
  },
  {
   "cell_type": "code",
   "execution_count": 14,
   "metadata": {},
   "outputs": [
    {
     "data": {
      "text/latex": [
       "$$ \\begin{equation}\n",
       "\\left[\n",
       "\\begin{array}{c}\n",
       "\\left( a x + b y \\right) t \\\\\n",
       "\\left( c x + d y \\right) t \\\\\n",
       "\\end{array}\n",
       "\\right]\n",
       "\\end{equation}\n",
       " $$"
      ],
      "text/plain": [
       "2-element Vector{Num}:\n",
       " (a*x + b*y)*t\n",
       " (c*x + d*y)*t"
      ]
     },
     "metadata": {},
     "output_type": "display_data"
    }
   ],
   "source": [
    "tAX = t * (A*x₁)"
   ]
  },
  {
   "cell_type": "markdown",
   "metadata": {},
   "source": [
    "Since cant simplify equality doesn't work"
   ]
  },
  {
   "cell_type": "code",
   "execution_count": 15,
   "metadata": {},
   "outputs": [
    {
     "data": {
      "text/plain": [
       "false"
      ]
     },
     "metadata": {},
     "output_type": "display_data"
    }
   ],
   "source": [
    "isequal(AtX,tAX)"
   ]
  },
  {
   "cell_type": "markdown",
   "metadata": {},
   "source": []
  },
  {
   "cell_type": "markdown",
   "metadata": {},
   "source": [
    "# Linear Map"
   ]
  },
  {
   "cell_type": "code",
   "execution_count": 17,
   "metadata": {},
   "outputs": [],
   "source": [
    "# Set up Revise.jl for automatic code reloading\n",
    "# This only needs to be run once at the beginning of your notebook session\n",
    "using Revise\n",
    "using DrWatson\n",
    "\n",
    "# Activate the project\n",
    "quickactivate(@__DIR__, \"Math_Foundations\")\n",
    "\n",
    "# Load the package \n",
    "using Linear_Algebra"
   ]
  },
  {
   "cell_type": "markdown",
   "metadata": {},
   "source": [
    "### Compute matrix of orthogonal projection of basis vectors on line along vector V"
   ]
  },
  {
   "cell_type": "code",
   "execution_count": 18,
   "metadata": {},
   "outputs": [
    {
     "data": {
      "text/latex": [
       "$$ \\begin{equation}\n",
       "\\left[\n",
       "\\begin{array}{cc}\n",
       "\\frac{u^{2}}{\\left( \\sqrt{\\left|u\\right|^{2} + \\left|v\\right|^{2}} \\right)^{2}} & \\frac{u v}{\\left( \\sqrt{\\left|u\\right|^{2} + \\left|v\\right|^{2}} \\right)^{2}} \\\\\n",
       "\\frac{u v}{\\left( \\sqrt{\\left|u\\right|^{2} + \\left|v\\right|^{2}} \\right)^{2}} & \\frac{v^{2}}{\\left( \\sqrt{\\left|u\\right|^{2} + \\left|v\\right|^{2}} \\right)^{2}} \\\\\n",
       "\\end{array}\n",
       "\\right]\n",
       "\\end{equation}\n",
       " $$"
      ],
      "text/plain": [
       "2×2 Matrix{Num}:\n",
       " (u^2) / (sqrt(abs2(u) + abs2(v))^2)  (u*v) / (sqrt(abs2(u) + abs2(v))^2)\n",
       " (u*v) / (sqrt(abs2(u) + abs2(v))^2)  (v^2) / (sqrt(abs2(u) + abs2(v))^2)"
      ]
     },
     "metadata": {},
     "output_type": "display_data"
    }
   ],
   "source": [
    "@variables u v\n",
    "x = [u, v]\n",
    "e₁ = [1, 0]\n",
    "e₂ = [0, 1]\n",
    "P = [permutedims(orthproj(x, e₁)); permutedims(orthproj(x, e₂))]"
   ]
  },
  {
   "cell_type": "markdown",
   "metadata": {},
   "source": [
    "Rotation of 45 degrees around x axis"
   ]
  },
  {
   "cell_type": "code",
   "execution_count": 19,
   "metadata": {},
   "outputs": [
    {
     "data": {
      "text/plain": [
       "2×2 Matrix{Float64}:\n",
       " 0.707107  -0.707107\n",
       " 0.707107   0.707107"
      ]
     },
     "metadata": {},
     "output_type": "display_data"
    }
   ],
   "source": [
    "e₁ = [1, 0]\n",
    "e₂ = [0, 1]\n",
    "x = [1, 0]\n",
    "R = [rotation(45, e₁)  rotation(45, e₂)]\n",
    "\n",
    "\n"
   ]
  },
  {
   "cell_type": "code",
   "execution_count": 20,
   "metadata": {},
   "outputs": [
    {
     "data": {
      "text/latex": [
       "$$ \\begin{equation}\n",
       "\\left[\n",
       "\\begin{array}{cc}\n",
       "\\cos\\left( \\theta \\right) &  - \\sin\\left( \\theta \\right) \\\\\n",
       "\\sin\\left( \\theta \\right) & \\cos\\left( \\theta \\right) \\\\\n",
       "\\end{array}\n",
       "\\right]\n",
       "\\end{equation}\n",
       " $$"
      ],
      "text/plain": [
       "2×2 Matrix{Num}:\n",
       " cos(θ)  -sin(θ)\n",
       " sin(θ)   cos(θ)"
      ]
     },
     "metadata": {},
     "output_type": "display_data"
    }
   ],
   "source": [
    "rotation_matrix_symbolic()"
   ]
  },
  {
   "cell_type": "markdown",
   "metadata": {},
   "source": [
    "Rotation matrix rotates vector by θ degrees"
   ]
  },
  {
   "cell_type": "code",
   "execution_count": 21,
   "metadata": {},
   "outputs": [
    {
     "data": {
      "text/plain": [
       "2×2 Matrix{Float64}:\n",
       " 0.707107  -0.707107\n",
       " 0.707107   0.707107"
      ]
     },
     "metadata": {},
     "output_type": "display_data"
    }
   ],
   "source": [
    "R = rotation_matrix(45)"
   ]
  },
  {
   "cell_type": "code",
   "execution_count": 22,
   "metadata": {},
   "outputs": [
    {
     "data": {
      "text/plain": [
       "2-element Vector{Float64}:\n",
       " 0.7071067811865476\n",
       " 0.7071067811865475"
      ]
     },
     "metadata": {},
     "output_type": "display_data"
    }
   ],
   "source": [
    "R * [1, 0]"
   ]
  },
  {
   "cell_type": "code",
   "execution_count": 23,
   "metadata": {},
   "outputs": [
    {
     "data": {
      "text/plain": [
       "2×2 Matrix{Float64}:\n",
       " 0.0  -1.0\n",
       " 1.0   0.0"
      ]
     },
     "metadata": {},
     "output_type": "display_data"
    }
   ],
   "source": [
    "R = round.(rotation_matrix(90))\n"
   ]
  },
  {
   "cell_type": "markdown",
   "metadata": {},
   "source": [
    "If rotate x-axis by 90 degrees we get to y-axis"
   ]
  },
  {
   "cell_type": "code",
   "execution_count": 24,
   "metadata": {},
   "outputs": [
    {
     "data": {
      "text/plain": [
       "2-element Vector{Float64}:\n",
       " 0.0\n",
       " 1.0"
      ]
     },
     "metadata": {},
     "output_type": "display_data"
    }
   ],
   "source": [
    "R * [1, 0]"
   ]
  },
  {
   "cell_type": "code",
   "execution_count": 25,
   "metadata": {},
   "outputs": [
    {
     "data": {
      "text/plain": [
       "2-element Vector{Float64}:\n",
       " 0.0\n",
       " 5.0"
      ]
     },
     "metadata": {},
     "output_type": "display_data"
    }
   ],
   "source": [
    "R * [5, 0]"
   ]
  },
  {
   "cell_type": "code",
   "execution_count": 26,
   "metadata": {},
   "outputs": [
    {
     "name": "stdout",
     "output_type": "stream",
     "text": [
      "a₁ = [2,1] and a₂ = [-2,4]\n",
      "calculate using v = [1/2,1]\n",
      "[-1.0, 4.5]\n",
      "calculate using e₁\n",
      "[2, 1]\n",
      "e₁ is transformed into a₁? true\n",
      "calculate using e₂\n",
      "[-2, 4]\n",
      "e₂ is transformed into a₂? true\n"
     ]
    }
   ],
   "source": [
    "#Change of Basis\n",
    "println(\"a₁ = [2,1] and a₂ = [-2,4]\")\n",
    "a₁ = [2,1]\n",
    "a₂ = [-2,4]\n",
    "v = [1/2,1]\n",
    "println(\"calculate using v = [1/2,1]\")\n",
    "v′ = (v[1] * a₁) + (v[2] * a₂)\n",
    "println(v′)\n",
    "println(\"calculate using e₁\")\n",
    "e₁ = [1,0]\n",
    "v′ = (e₁[1] * a₁) + (e₁[2] * a₂)\n",
    "println(v′)\n",
    "println(\"e₁ is transformed into a₁? \",a₁ == v′ )\n",
    "println(\"calculate using e₂\")\n",
    "e₂ = [0,1]\n",
    "v′ = (e₂[1] * a₁) + (e₂[2] * a₂)\n",
    "println(v′)\n",
    "println(\"e₂ is transformed into a₂? \",a₂ == v′ )\n"
   ]
  },
  {
   "cell_type": "markdown",
   "metadata": {},
   "source": [
    "### Matrix Transpose"
   ]
  },
  {
   "cell_type": "code",
   "execution_count": 27,
   "metadata": {},
   "outputs": [
    {
     "name": "stdout",
     "output_type": "stream",
     "text": [
      "Matrix A is [2 -2; 1 4]\n",
      "Matrix Aᵀ is [2 1; -2 4]\n"
     ]
    }
   ],
   "source": [
    "a₁ = [2,1]\n",
    "a₂ = [-2,4]\n",
    "A = [a₁ a₂]\n",
    "println(\"Matrix A is \", A)\n",
    "Aᵀ = transpose(A)\n",
    "println(\"Matrix Aᵀ is \", Aᵀ)\n"
   ]
  },
  {
   "cell_type": "code",
   "execution_count": 28,
   "metadata": {},
   "outputs": [
    {
     "data": {
      "text/plain": [
       "true"
      ]
     },
     "metadata": {},
     "output_type": "display_data"
    }
   ],
   "source": [
    "A = [-1 1/2; 0 -1/2]\n",
    "u = [1,2]\n",
    "v = [-1,4]\n",
    "c = 2\n",
    "A * (c * u) == c * (A * u)"
   ]
  },
  {
   "cell_type": "code",
   "execution_count": 29,
   "metadata": {},
   "outputs": [
    {
     "name": "stdout",
     "output_type": "stream",
     "text": [
      "full calculation of projection matrix: [0.2 0.4; 0.4 0.8]\n",
      "transpose calculation of projection matrix: [0.2 0.4; 0.4 0.8]\n"
     ]
    }
   ],
   "source": [
    "u = [1,2]\n",
    "println(\"full calculation of projection matrix: \",round.(projection_matrix(u), digits=3))\n",
    "println(\"transpose calculation of projection matrix: \", projection_matrix_transpose(u))"
   ]
  },
  {
   "cell_type": "markdown",
   "metadata": {},
   "source": [
    "### Linear Map Composition"
   ]
  },
  {
   "cell_type": "code",
   "execution_count": 30,
   "metadata": {},
   "outputs": [
    {
     "name": "stdout",
     "output_type": "stream",
     "text": [
      "Apply A to v then B to result & get vector [6, 9]\n",
      "Compose B and A and apply to v to get [6, 9]\n",
      "results are the same: true\n"
     ]
    }
   ],
   "source": [
    "A = [-1 2; 0 3]\n",
    "B = [0 -2; -3 1]\n",
    "v = [2, -1]\n",
    "v′ = A * v\n",
    "v′′ = B * v′\n",
    "println(\"Apply A to v then B to result & get vector \", v′′)\n",
    "C = B * A\n",
    "v′′′ = C * v\n",
    "println(\"Compose B and A and apply to v to get \", v′′′)\n",
    "println(\"results are the same: \", v′′′ == v′′)"
   ]
  },
  {
   "cell_type": "markdown",
   "metadata": {},
   "source": [
    "### Rotation is Commutative"
   ]
  },
  {
   "cell_type": "code",
   "execution_count": 31,
   "metadata": {},
   "outputs": [
    {
     "name": "stdout",
     "output_type": "stream",
     "text": [
      "Order of rotation doesn't matter: true\n"
     ]
    }
   ],
   "source": [
    "v = [2, -1]\n",
    "R1 = rotation_matrix_ns(30)\n",
    "R2 = rotation_matrix_ns(20)\n",
    "v′′ = R1 * R2 * v\n",
    "v′ = R2 * R1 * v\n",
    "println(\"Order of rotation doesn't matter: \",v′ ≈ v′)"
   ]
  },
  {
   "cell_type": "markdown",
   "metadata": {},
   "source": [
    "### Rank and Composition"
   ]
  },
  {
   "cell_type": "code",
   "execution_count": 32,
   "metadata": {},
   "outputs": [
    {
     "name": "stdout",
     "output_type": "stream",
     "text": [
      "Rank A :2\n",
      "Rank B :2\n",
      "Rank A*B :2\n",
      "Rank C :1\n",
      "Rank A*C :1\n"
     ]
    }
   ],
   "source": [
    "A = [-0.5 0.866; -0.866 -0.5]\n",
    "B = [1 0; 0 -1]\n",
    "println(\"Rank A :\",rank(A))\n",
    "println(\"Rank B :\",rank(B))\n",
    "println(\"Rank A*B :\",rank(A*B))\n",
    "C = [2 8; 4 16]\n",
    "println(\"Rank C :\",rank(C))\n",
    "println(\"Rank A*C :\",rank(A*C))"
   ]
  },
  {
   "cell_type": "markdown",
   "metadata": {},
   "source": [
    "### Reduced Rank Projection is Idempotent"
   ]
  },
  {
   "cell_type": "code",
   "execution_count": 33,
   "metadata": {},
   "outputs": [
    {
     "name": "stdout",
     "output_type": "stream",
     "text": [
      "Rank projection matrix P: 1\n",
      "Rank P*P: 1\n",
      "P*v: [0.0, 0.0]\n",
      "P*P*v: [0.0, 0.0]\n",
      "P ==P*P: true\n"
     ]
    }
   ],
   "source": [
    " u = [1,2]\n",
    " projection_matrix(u)\n",
    "P = projection_matrix(u)\n",
    "println(\"Rank projection matrix P: \",rank(P))\n",
    "println(\"Rank P*P: \",rank(P*P))\n",
    "v = [2,-1]\n",
    "println(\"P*v: \",P*v)\n",
    "println(\"P*P*v: \",P*P*v)\n",
    "println(\"P ==P*P: \",P ≈ P*P)"
   ]
  },
  {
   "cell_type": "markdown",
   "metadata": {},
   "source": [
    "# Linear Systems"
   ]
  },
  {
   "cell_type": "code",
   "execution_count": 34,
   "metadata": {},
   "outputs": [],
   "source": [
    "# Set up Revise.jl for automatic code reloading\n",
    "# This only needs to be run once at the beginning of your notebook session\n",
    "using Revise\n",
    "using DrWatson\n",
    "\n",
    "# Activate the project\n",
    "quickactivate(@__DIR__, \"Math_Foundations\")\n",
    "\n",
    "# Load the package \n",
    "using Linear_Algebra"
   ]
  },
  {
   "cell_type": "markdown",
   "metadata": {},
   "source": [
    "### Example of Julia Solving a Linear System"
   ]
  },
  {
   "cell_type": "code",
   "execution_count": 35,
   "metadata": {},
   "outputs": [
    {
     "name": "stdout",
     "output_type": "stream",
     "text": [
      "vector b is \n"
     ]
    },
    {
     "data": {
      "text/plain": [
       "2-element Vector{Int64}:\n",
       " 4\n",
       " 4"
      ]
     },
     "metadata": {},
     "output_type": "display_data"
    }
   ],
   "source": [
    "a₁ = [2, 1]\n",
    "a₂ = [4, 6]\n",
    "println(\"vector b is \")\n",
    "b = [4,4]"
   ]
  },
  {
   "cell_type": "code",
   "execution_count": 36,
   "metadata": {},
   "outputs": [
    {
     "name": "stdout",
     "output_type": "stream",
     "text": [
      "matrix A is \n"
     ]
    },
    {
     "data": {
      "text/plain": [
       "2×2 Matrix{Int64}:\n",
       " 2  4\n",
       " 1  6"
      ]
     },
     "metadata": {},
     "output_type": "display_data"
    }
   ],
   "source": [
    "println(\"matrix A is \")\n",
    "A = [a₁ a₂]\n"
   ]
  },
  {
   "cell_type": "code",
   "execution_count": 37,
   "metadata": {},
   "outputs": [
    {
     "name": "stdout",
     "output_type": "stream",
     "text": [
      "solution for u in 'A*u = b' is vector \n"
     ]
    },
    {
     "data": {
      "text/plain": [
       "2-element Vector{Float64}:\n",
       " 1.0\n",
       " 0.5"
      ]
     },
     "metadata": {},
     "output_type": "display_data"
    }
   ],
   "source": [
    "println(\"solution for u in 'A*u = b' is vector \")\n",
    "u = A \\ b"
   ]
  },
  {
   "cell_type": "markdown",
   "metadata": {},
   "source": [
    "### Example of Cramer's Rule"
   ]
  },
  {
   "cell_type": "code",
   "execution_count": 38,
   "metadata": {},
   "outputs": [
    {
     "name": "stdout",
     "output_type": "stream",
     "text": [
      "matrix [b a₂]: \n"
     ]
    },
    {
     "data": {
      "text/plain": [
       "2×2 Matrix{Int64}:\n",
       " 4  4\n",
       " 4  6"
      ]
     },
     "metadata": {},
     "output_type": "display_data"
    }
   ],
   "source": [
    "println(\"matrix [b a₂]: \")\n",
    "[b a₂]"
   ]
  },
  {
   "cell_type": "code",
   "execution_count": 39,
   "metadata": {},
   "outputs": [
    {
     "name": "stdout",
     "output_type": "stream",
     "text": [
      "d₁ is the determinate of matrix [b a₂]: \n"
     ]
    },
    {
     "data": {
      "text/plain": [
       "8.0"
      ]
     },
     "metadata": {},
     "output_type": "display_data"
    }
   ],
   "source": [
    "println(\"d₁ is the determinate of matrix [b a₂]: \")\n",
    "d₁ = det([b a₂])"
   ]
  },
  {
   "cell_type": "code",
   "execution_count": 40,
   "metadata": {},
   "outputs": [
    {
     "name": "stdout",
     "output_type": "stream",
     "text": [
      "d₂ is the determinate of matrix [a₁ a₂]: \n"
     ]
    },
    {
     "data": {
      "text/plain": [
       "8.0"
      ]
     },
     "metadata": {},
     "output_type": "display_data"
    }
   ],
   "source": [
    "println(\"d₂ is the determinate of matrix [a₁ a₂]: \")\n",
    "d₂ = det([a₁ a₂])"
   ]
  },
  {
   "cell_type": "code",
   "execution_count": 41,
   "metadata": {},
   "outputs": [
    {
     "name": "stdout",
     "output_type": "stream",
     "text": [
      "matrix [a₁ b]: \n"
     ]
    },
    {
     "data": {
      "text/plain": [
       "2×2 Matrix{Int64}:\n",
       " 2  4\n",
       " 1  4"
      ]
     },
     "metadata": {},
     "output_type": "display_data"
    }
   ],
   "source": [
    "println(\"matrix [a₁ b]: \")\n",
    "[a₁ b]"
   ]
  },
  {
   "cell_type": "code",
   "execution_count": 42,
   "metadata": {},
   "outputs": [
    {
     "name": "stdout",
     "output_type": "stream",
     "text": [
      "d₃ is the determinate of matrix [a₁ b]: \n"
     ]
    },
    {
     "data": {
      "text/plain": [
       "4.0"
      ]
     },
     "metadata": {},
     "output_type": "display_data"
    }
   ],
   "source": [
    "println(\"d₃ is the determinate of matrix [a₁ b]: \")\n",
    "d₃ = det([a₁ b])"
   ]
  },
  {
   "cell_type": "code",
   "execution_count": 43,
   "metadata": {},
   "outputs": [
    {
     "name": "stdout",
     "output_type": "stream",
     "text": [
      "u₁ = d₁ / d₂ \n"
     ]
    },
    {
     "data": {
      "text/plain": [
       "1.0"
      ]
     },
     "metadata": {},
     "output_type": "display_data"
    }
   ],
   "source": [
    "println(\"u₁ = d₁ / d₂ \")\n",
    "u₁ = d₁ / d₂"
   ]
  },
  {
   "cell_type": "code",
   "execution_count": 44,
   "metadata": {},
   "outputs": [
    {
     "name": "stdout",
     "output_type": "stream",
     "text": [
      "u₂ = d₃ / d₂ \n"
     ]
    },
    {
     "data": {
      "text/plain": [
       "0.5"
      ]
     },
     "metadata": {},
     "output_type": "display_data"
    }
   ],
   "source": [
    "println(\"u₂ = d₃ / d₂ \")\n",
    "u₂ = d₃ / d₂"
   ]
  },
  {
   "cell_type": "markdown",
   "metadata": {},
   "source": [
    "### Example Of Gaussian Elimination/ Back Substitition"
   ]
  },
  {
   "cell_type": "code",
   "execution_count": 45,
   "metadata": {},
   "outputs": [
    {
     "name": "stdout",
     "output_type": "stream",
     "text": [
      "Shear matrix S₁: \n"
     ]
    },
    {
     "data": {
      "text/plain": [
       "2×2 Matrix{Float64}:\n",
       "  1.0  0.0\n",
       " -0.5  1.0"
      ]
     },
     "metadata": {},
     "output_type": "display_data"
    }
   ],
   "source": [
    "println(\"Shear matrix S₁: \")\n",
    "S₁ = [1 0; -1/2 1]"
   ]
  },
  {
   "cell_type": "code",
   "execution_count": 46,
   "metadata": {},
   "outputs": [
    {
     "name": "stdout",
     "output_type": "stream",
     "text": [
      "Forward elimination of a₁ using shear S₁: \n"
     ]
    },
    {
     "data": {
      "text/plain": [
       "2-element Vector{Float64}:\n",
       " 2.0\n",
       " 0.0"
      ]
     },
     "metadata": {},
     "output_type": "display_data"
    }
   ],
   "source": [
    "println(\"Forward elimination of a₁ using shear S₁: \")\n",
    "a₁′ = S₁ * a₁"
   ]
  },
  {
   "cell_type": "code",
   "execution_count": 47,
   "metadata": {},
   "outputs": [
    {
     "name": "stdout",
     "output_type": "stream",
     "text": [
      "Forward elimination of a₂ using shear S₁: \n"
     ]
    },
    {
     "data": {
      "text/plain": [
       "2-element Vector{Float64}:\n",
       " 4.0\n",
       " 4.0"
      ]
     },
     "metadata": {},
     "output_type": "display_data"
    }
   ],
   "source": [
    "println(\"Forward elimination of a₂ using shear S₁: \")\n",
    "a₂′ = S₁ * a₂"
   ]
  },
  {
   "cell_type": "code",
   "execution_count": 48,
   "metadata": {},
   "outputs": [
    {
     "name": "stdout",
     "output_type": "stream",
     "text": [
      "Forward elimination of b using shear S₁: \n"
     ]
    },
    {
     "data": {
      "text/plain": [
       "2-element Vector{Float64}:\n",
       " 4.0\n",
       " 2.0"
      ]
     },
     "metadata": {},
     "output_type": "display_data"
    }
   ],
   "source": [
    "println(\"Forward elimination of b using shear S₁: \")\n",
    "b′ = S₁ * b"
   ]
  },
  {
   "cell_type": "code",
   "execution_count": 49,
   "metadata": {},
   "outputs": [
    {
     "name": "stdout",
     "output_type": "stream",
     "text": [
      "back substitution solve for u₂ = b′[2] / a₂′[2]:\n"
     ]
    },
    {
     "data": {
      "text/plain": [
       "0.5"
      ]
     },
     "metadata": {},
     "output_type": "display_data"
    }
   ],
   "source": [
    "println(\"back substitution solve for u₂ = b′[2] / a₂′[2]:\")\n",
    "u₂ = b′[2] / a₂′[2]"
   ]
  },
  {
   "cell_type": "code",
   "execution_count": 50,
   "metadata": {},
   "outputs": [
    {
     "name": "stdout",
     "output_type": "stream",
     "text": [
      "back substitution solve for u₁ = (1 / a₁′[1]) * (b′[1] - (u₂ * a₂′[1]))\n"
     ]
    },
    {
     "data": {
      "text/plain": [
       "1.0"
      ]
     },
     "metadata": {},
     "output_type": "display_data"
    }
   ],
   "source": [
    "println(\"back substitution solve for u₁ = (1 / a₁′[1]) * (b′[1] - (u₂ * a₂′[1]))\")\n",
    "u₁ = (1 / a₁′[1]) * (b′[1] - (u₂ * a₂′[1]))\n"
   ]
  },
  {
   "cell_type": "markdown",
   "metadata": {},
   "source": [
    "### Another Example Of Gaussian Elimination/ Back Substitition"
   ]
  },
  {
   "cell_type": "code",
   "execution_count": 51,
   "metadata": {},
   "outputs": [
    {
     "name": "stdout",
     "output_type": "stream",
     "text": [
      "vector b is \n"
     ]
    },
    {
     "data": {
      "text/plain": [
       "2-element Vector{Int64}:\n",
       " 0\n",
       " 2"
      ]
     },
     "metadata": {},
     "output_type": "display_data"
    }
   ],
   "source": [
    "a₁ = [-1, 2]\n",
    "a₂ = [4, 2]\n",
    "println(\"vector b is \")\n",
    "b = [0, 2]"
   ]
  },
  {
   "cell_type": "code",
   "execution_count": 52,
   "metadata": {},
   "outputs": [
    {
     "name": "stdout",
     "output_type": "stream",
     "text": [
      "Shear matrix S₁: \n"
     ]
    },
    {
     "data": {
      "text/plain": [
       "2×2 Matrix{Int64}:\n",
       " 1  0\n",
       " 2  1"
      ]
     },
     "metadata": {},
     "output_type": "display_data"
    }
   ],
   "source": [
    "println(\"Shear matrix S₁: \")\n",
    "S₁ = [1 0; 2 1]"
   ]
  },
  {
   "cell_type": "code",
   "execution_count": 53,
   "metadata": {},
   "outputs": [
    {
     "name": "stdout",
     "output_type": "stream",
     "text": [
      "Forward elimination of a₁ using shear S₁: \n"
     ]
    },
    {
     "data": {
      "text/plain": [
       "2-element Vector{Int64}:\n",
       " -1\n",
       "  0"
      ]
     },
     "metadata": {},
     "output_type": "display_data"
    }
   ],
   "source": [
    "println(\"Forward elimination of a₁ using shear S₁: \")\n",
    "a₁′ = S₁ * a₁"
   ]
  },
  {
   "cell_type": "code",
   "execution_count": 54,
   "metadata": {},
   "outputs": [
    {
     "name": "stdout",
     "output_type": "stream",
     "text": [
      "Forward elimination of a₂ using shear S₁: \n"
     ]
    },
    {
     "data": {
      "text/plain": [
       "2-element Vector{Int64}:\n",
       "  4\n",
       " 10"
      ]
     },
     "metadata": {},
     "output_type": "display_data"
    }
   ],
   "source": [
    "\n",
    "println(\"Forward elimination of a₂ using shear S₁: \")\n",
    "a₂′ = S₁ * a₂\n"
   ]
  },
  {
   "cell_type": "code",
   "execution_count": 55,
   "metadata": {},
   "outputs": [
    {
     "name": "stdout",
     "output_type": "stream",
     "text": [
      "Forward elimination of b using shear S₁: \n"
     ]
    },
    {
     "data": {
      "text/plain": [
       "2-element Vector{Int64}:\n",
       " 0\n",
       " 2"
      ]
     },
     "metadata": {},
     "output_type": "display_data"
    }
   ],
   "source": [
    "println(\"Forward elimination of b using shear S₁: \")\n",
    "b′ = S₁ * b"
   ]
  },
  {
   "cell_type": "code",
   "execution_count": 56,
   "metadata": {},
   "outputs": [
    {
     "name": "stdout",
     "output_type": "stream",
     "text": [
      "back substitution solve for u₂ = b′[2] / a₂′[2]:\n"
     ]
    },
    {
     "data": {
      "text/plain": [
       "0.2"
      ]
     },
     "metadata": {},
     "output_type": "display_data"
    }
   ],
   "source": [
    "println(\"back substitution solve for u₂ = b′[2] / a₂′[2]:\")\n",
    "u₂ = b′[2] / a₂′[2]"
   ]
  },
  {
   "cell_type": "code",
   "execution_count": 57,
   "metadata": {},
   "outputs": [
    {
     "name": "stdout",
     "output_type": "stream",
     "text": [
      "back substitution solve for u₁ = (1 / a₁′[1]) * (b′[1] - (u₂ * a₂′[1]))\n"
     ]
    },
    {
     "data": {
      "text/plain": [
       "0.8"
      ]
     },
     "metadata": {},
     "output_type": "display_data"
    }
   ],
   "source": [
    "println(\"back substitution solve for u₁ = (1 / a₁′[1]) * (b′[1] - (u₂ * a₂′[1]))\")\n",
    "u₁ = (1 / a₁′[1]) * (b′[1] - (u₂ * a₂′[1]))"
   ]
  },
  {
   "cell_type": "markdown",
   "metadata": {},
   "source": [
    "### Pivoting"
   ]
  },
  {
   "cell_type": "code",
   "execution_count": 58,
   "metadata": {},
   "outputs": [
    {
     "name": "stdout",
     "output_type": "stream",
     "text": [
      "matrix A is \n"
     ]
    },
    {
     "data": {
      "text/plain": [
       "2×2 Matrix{Float64}:\n",
       " 0.0001  1.0\n",
       " 1.0     1.0"
      ]
     },
     "metadata": {},
     "output_type": "display_data"
    }
   ],
   "source": [
    "a₁ = [0.0001, 1]\n",
    "a₂ = [1, 1]\n",
    "println(\"matrix A is \")\n",
    "A = [a₁ a₂]"
   ]
  },
  {
   "cell_type": "code",
   "execution_count": 59,
   "metadata": {},
   "outputs": [
    {
     "name": "stdout",
     "output_type": "stream",
     "text": [
      "vector b is \n"
     ]
    },
    {
     "data": {
      "text/plain": [
       "2-element Vector{Int64}:\n",
       " 1\n",
       " 2"
      ]
     },
     "metadata": {},
     "output_type": "display_data"
    }
   ],
   "source": [
    "println(\"vector b is \")\n",
    "b = [1, 2]"
   ]
  },
  {
   "cell_type": "code",
   "execution_count": 60,
   "metadata": {},
   "outputs": [
    {
     "name": "stdout",
     "output_type": "stream",
     "text": [
      "Shear matrix S₁: \n"
     ]
    },
    {
     "data": {
      "text/plain": [
       "2×2 Matrix{Float64}:\n",
       "      1.0  0.0\n",
       " -10000.0  1.0"
      ]
     },
     "metadata": {},
     "output_type": "display_data"
    }
   ],
   "source": [
    "println(\"Shear matrix S₁: \")\n",
    "S₁ = [1.0 0.0; -10000.0 1.0]"
   ]
  },
  {
   "cell_type": "code",
   "execution_count": 61,
   "metadata": {},
   "outputs": [
    {
     "name": "stdout",
     "output_type": "stream",
     "text": [
      "Forward elimination of a₁ using shear S₁: \n"
     ]
    },
    {
     "data": {
      "text/plain": [
       "2-element Vector{Float64}:\n",
       " 0.0001\n",
       " 0.0"
      ]
     },
     "metadata": {},
     "output_type": "display_data"
    }
   ],
   "source": [
    "println(\"Forward elimination of a₁ using shear S₁: \")\n",
    "a₁′ = S₁ * a₁"
   ]
  },
  {
   "cell_type": "code",
   "execution_count": 62,
   "metadata": {},
   "outputs": [
    {
     "name": "stdout",
     "output_type": "stream",
     "text": [
      "Forward elimination of a₂ using shear S₁: \n"
     ]
    },
    {
     "data": {
      "text/plain": [
       "2-element Vector{Float64}:\n",
       "     1.0\n",
       " -9999.0"
      ]
     },
     "metadata": {},
     "output_type": "display_data"
    }
   ],
   "source": [
    "println(\"Forward elimination of a₂ using shear S₁: \")\n",
    "a₂′ = S₁ * a₂"
   ]
  },
  {
   "cell_type": "code",
   "execution_count": 63,
   "metadata": {},
   "outputs": [
    {
     "name": "stdout",
     "output_type": "stream",
     "text": [
      "Forward elimination of b using shear S₁: \n"
     ]
    },
    {
     "data": {
      "text/plain": [
       "2-element Vector{Float64}:\n",
       "     1.0\n",
       " -9998.0"
      ]
     },
     "metadata": {},
     "output_type": "display_data"
    }
   ],
   "source": [
    "println(\"Forward elimination of b using shear S₁: \")\n",
    "b′ = S₁ * b"
   ]
  },
  {
   "cell_type": "code",
   "execution_count": 64,
   "metadata": {},
   "outputs": [
    {
     "name": "stdout",
     "output_type": "stream",
     "text": [
      "back substitution solve for u₂ = b′[2] / a₂′[2]:\n"
     ]
    },
    {
     "data": {
      "text/plain": [
       "0.9998999899989999"
      ]
     },
     "metadata": {},
     "output_type": "display_data"
    }
   ],
   "source": [
    "println(\"back substitution solve for u₂ = b′[2] / a₂′[2]:\")\n",
    "u₂ = b′[2] / a₂′[2] "
   ]
  },
  {
   "cell_type": "code",
   "execution_count": 65,
   "metadata": {},
   "outputs": [
    {
     "name": "stdout",
     "output_type": "stream",
     "text": [
      "back substitution solve for u₁ = (1 / a₁′[1]) * (b′[1] - (u₂ * a₂′[1]))\n"
     ]
    },
    {
     "data": {
      "text/plain": [
       "1.0001000100012813"
      ]
     },
     "metadata": {},
     "output_type": "display_data"
    }
   ],
   "source": [
    "println(\"back substitution solve for u₁ = (1 / a₁′[1]) * (b′[1] - (u₂ * a₂′[1]))\")\n",
    "u₁ = (1 / a₁′[1]) * (b′[1] - (u₂ * a₂′[1]))"
   ]
  },
  {
   "cell_type": "code",
   "execution_count": 66,
   "metadata": {},
   "outputs": [
    {
     "name": "stdout",
     "output_type": "stream",
     "text": [
      "unrounded solution\n"
     ]
    },
    {
     "data": {
      "text/plain": [
       "2-element Vector{Float64}:\n",
       " 1.0001000100012813\n",
       " 0.9998999899989999"
      ]
     },
     "metadata": {},
     "output_type": "display_data"
    }
   ],
   "source": [
    "println(\"unrounded solution\")\n",
    "uₜ = [u₁ , u₂]"
   ]
  },
  {
   "cell_type": "code",
   "execution_count": 67,
   "metadata": {},
   "outputs": [
    {
     "name": "stdout",
     "output_type": "stream",
     "text": [
      "Pivot A\n"
     ]
    },
    {
     "data": {
      "text/plain": [
       "2×2 Matrix{Float64}:\n",
       " 1.0     1.0\n",
       " 0.0001  1.0"
      ]
     },
     "metadata": {},
     "output_type": "display_data"
    }
   ],
   "source": [
    "println(\"Pivot A\")\n",
    "P = [0 1; 1 0]\n",
    "A′ = P * A"
   ]
  },
  {
   "cell_type": "code",
   "execution_count": 68,
   "metadata": {},
   "outputs": [
    {
     "name": "stdout",
     "output_type": "stream",
     "text": [
      "Pivot b\n"
     ]
    },
    {
     "data": {
      "text/plain": [
       "2-element Vector{Int64}:\n",
       " 2\n",
       " 1"
      ]
     },
     "metadata": {},
     "output_type": "display_data"
    }
   ],
   "source": [
    "println(\"Pivot b\")\n",
    "bₚ = P * b"
   ]
  },
  {
   "cell_type": "code",
   "execution_count": 69,
   "metadata": {},
   "outputs": [
    {
     "name": "stdout",
     "output_type": "stream",
     "text": [
      "recreate a₁ and a₂\n"
     ]
    },
    {
     "data": {
      "text/plain": [
       "2-element Vector{Float64}:\n",
       " 1.0\n",
       " 0.0001"
      ]
     },
     "metadata": {},
     "output_type": "display_data"
    }
   ],
   "source": [
    "println(\"recreate a₁ and a₂\")\n",
    "a₁ = [A′[1,1], A′[2,1]]\n"
   ]
  },
  {
   "cell_type": "code",
   "execution_count": 70,
   "metadata": {},
   "outputs": [
    {
     "data": {
      "text/plain": [
       "2-element Vector{Float64}:\n",
       " 1.0\n",
       " 1.0"
      ]
     },
     "metadata": {},
     "output_type": "display_data"
    }
   ],
   "source": [
    "a₂ = [A′[1, 2], A′[2, 2]]"
   ]
  },
  {
   "cell_type": "code",
   "execution_count": 71,
   "metadata": {},
   "outputs": [
    {
     "name": "stdout",
     "output_type": "stream",
     "text": [
      "new pivot\n"
     ]
    },
    {
     "data": {
      "text/plain": [
       "2×2 Matrix{Float64}:\n",
       "  1.0     0.0\n",
       " -0.0001  1.0"
      ]
     },
     "metadata": {},
     "output_type": "display_data"
    }
   ],
   "source": [
    "println(\"new pivot\")\n",
    "S₂ = [1.0 0.0; -0.0001 1.0]"
   ]
  },
  {
   "cell_type": "code",
   "execution_count": 72,
   "metadata": {},
   "outputs": [
    {
     "name": "stdout",
     "output_type": "stream",
     "text": [
      "Forward elimination of a₁ using shear S₂: \n"
     ]
    },
    {
     "data": {
      "text/plain": [
       "2-element Vector{Float64}:\n",
       " 1.0\n",
       " 0.0"
      ]
     },
     "metadata": {},
     "output_type": "display_data"
    }
   ],
   "source": [
    "println(\"Forward elimination of a₁ using shear S₂: \")\n",
    "a₁′ = S₂ * a₁"
   ]
  },
  {
   "cell_type": "code",
   "execution_count": 73,
   "metadata": {},
   "outputs": [
    {
     "name": "stdout",
     "output_type": "stream",
     "text": [
      "Forward elimination of a₂ using shear S₂: \n"
     ]
    },
    {
     "data": {
      "text/plain": [
       "2-element Vector{Float64}:\n",
       " 1.0\n",
       " 0.9999"
      ]
     },
     "metadata": {},
     "output_type": "display_data"
    }
   ],
   "source": [
    "println(\"Forward elimination of a₂ using shear S₂: \")\n",
    "a₂′ = S₂ * a₂"
   ]
  },
  {
   "cell_type": "code",
   "execution_count": 74,
   "metadata": {},
   "outputs": [
    {
     "name": "stdout",
     "output_type": "stream",
     "text": [
      "Forward elimination of bₚ using shear S₁: \n"
     ]
    },
    {
     "data": {
      "text/plain": [
       "2-element Vector{Float64}:\n",
       " 2.0\n",
       " 0.9998"
      ]
     },
     "metadata": {},
     "output_type": "display_data"
    }
   ],
   "source": [
    "println(\"Forward elimination of bₚ using shear S₁: \")\n",
    "b′ = S₂ * bₚ"
   ]
  },
  {
   "cell_type": "code",
   "execution_count": 75,
   "metadata": {},
   "outputs": [
    {
     "name": "stdout",
     "output_type": "stream",
     "text": [
      "back substitution solve for u₂ = b′[2] / a₂′[2]:\n"
     ]
    },
    {
     "data": {
      "text/plain": [
       "0.9998999899989999"
      ]
     },
     "metadata": {},
     "output_type": "display_data"
    }
   ],
   "source": [
    "println(\"back substitution solve for u₂ = b′[2] / a₂′[2]:\")\n",
    "u₂ = b′[2] / a₂′[2]\n"
   ]
  },
  {
   "cell_type": "code",
   "execution_count": 76,
   "metadata": {},
   "outputs": [
    {
     "name": "stdout",
     "output_type": "stream",
     "text": [
      "back substitution solve for u₁ = (1 / a₁′[1]) * (b′[1] - (u₂ * a₂′[1]))\n"
     ]
    },
    {
     "data": {
      "text/plain": [
       "1.0001000100010002"
      ]
     },
     "metadata": {},
     "output_type": "display_data"
    }
   ],
   "source": [
    "println(\"back substitution solve for u₁ = (1 / a₁′[1]) * (b′[1] - (u₂ * a₂′[1]))\")\n",
    "u₁ = (1 / a₁′[1]) * (b′[1] - (u₂ * a₂′[1]))"
   ]
  },
  {
   "cell_type": "code",
   "execution_count": 77,
   "metadata": {},
   "outputs": [
    {
     "name": "stdout",
     "output_type": "stream",
     "text": [
      "pivoted solution\n"
     ]
    },
    {
     "data": {
      "text/plain": [
       "2-element Vector{Float64}:\n",
       " 1.0001000100010002\n",
       " 0.9998999899989999"
      ]
     },
     "metadata": {},
     "output_type": "display_data"
    }
   ],
   "source": [
    "println(\"pivoted solution\")\n",
    "uₚ = [u₁, u₂]"
   ]
  },
  {
   "cell_type": "code",
   "execution_count": 78,
   "metadata": {},
   "outputs": [
    {
     "data": {
      "text/plain": [
       "2.8110846983508964e-13"
      ]
     },
     "metadata": {},
     "output_type": "display_data"
    }
   ],
   "source": [
    "norm(uₜ - uₚ)"
   ]
  },
  {
   "cell_type": "markdown",
   "metadata": {},
   "source": [
    "### Homogeneous System"
   ]
  },
  {
   "cell_type": "code",
   "execution_count": 79,
   "metadata": {},
   "outputs": [
    {
     "name": "stdout",
     "output_type": "stream",
     "text": [
      "Matrix A: \n"
     ]
    },
    {
     "data": {
      "text/plain": [
       "2×2 Matrix{Int64}:\n",
       " 1  2\n",
       " 2  4"
      ]
     },
     "metadata": {},
     "output_type": "display_data"
    }
   ],
   "source": [
    "a₁ = [1, 2]\n",
    "a₂ = [2, 4]\n",
    "println(\"Matrix A: \")\n",
    "A = [a₁ a₂]"
   ]
  },
  {
   "cell_type": "code",
   "execution_count": 80,
   "metadata": {},
   "outputs": [
    {
     "name": "stdout",
     "output_type": "stream",
     "text": [
      "Vector b: \n"
     ]
    },
    {
     "data": {
      "text/plain": [
       "2-element Vector{Int64}:\n",
       " 0\n",
       " 0"
      ]
     },
     "metadata": {},
     "output_type": "display_data"
    }
   ],
   "source": [
    "println(\"Vector b: \")\n",
    "b = [0, 0]\n"
   ]
  },
  {
   "cell_type": "code",
   "execution_count": 81,
   "metadata": {},
   "outputs": [
    {
     "name": "stdout",
     "output_type": "stream",
     "text": [
      "Shear S₁: \n"
     ]
    },
    {
     "data": {
      "text/plain": [
       "2×2 Matrix{Float64}:\n",
       "  1.0  0.0\n",
       " -2.0  1.0"
      ]
     },
     "metadata": {},
     "output_type": "display_data"
    }
   ],
   "source": [
    "println(\"Shear S₁: \")\n",
    "S₁ = [1.0 0.0; -2.0 1.0]"
   ]
  },
  {
   "cell_type": "code",
   "execution_count": 82,
   "metadata": {},
   "outputs": [
    {
     "name": "stdout",
     "output_type": "stream",
     "text": [
      "Forward elimination of a₁ using shear S₁: \n"
     ]
    },
    {
     "data": {
      "text/plain": [
       "2-element Vector{Float64}:\n",
       " 1.0\n",
       " 0.0"
      ]
     },
     "metadata": {},
     "output_type": "display_data"
    }
   ],
   "source": [
    "println(\"Forward elimination of a₁ using shear S₁: \")\n",
    "a₁′ = S₁ * a₁\n"
   ]
  },
  {
   "cell_type": "code",
   "execution_count": 83,
   "metadata": {},
   "outputs": [
    {
     "name": "stdout",
     "output_type": "stream",
     "text": [
      "Forward elimination of a₂ using shear S₁: \n"
     ]
    },
    {
     "data": {
      "text/plain": [
       "2-element Vector{Float64}:\n",
       " 2.0\n",
       " 0.0"
      ]
     },
     "metadata": {},
     "output_type": "display_data"
    }
   ],
   "source": [
    "println(\"Forward elimination of a₂ using shear S₁: \")\n",
    "a₂′ = S₁ * a₂\n"
   ]
  },
  {
   "cell_type": "code",
   "execution_count": 84,
   "metadata": {},
   "outputs": [
    {
     "name": "stdout",
     "output_type": "stream",
     "text": [
      "Forward elimination of b using shear S₁: \n"
     ]
    },
    {
     "data": {
      "text/plain": [
       "2-element Vector{Float64}:\n",
       " 0.0\n",
       " 0.0"
      ]
     },
     "metadata": {},
     "output_type": "display_data"
    }
   ],
   "source": [
    "println(\"Forward elimination of b using shear S₁: \")\n",
    "b′ = S₁ * b\n"
   ]
  },
  {
   "cell_type": "code",
   "execution_count": 85,
   "metadata": {},
   "outputs": [
    {
     "name": "stdout",
     "output_type": "stream",
     "text": [
      " any u₂ will solve the equation so set it to 1\n",
      "back substitution solve for u₁ = (1 / a₁′[1]) * (b′[1] - (u₂ * a₂′[1]))\n",
      "solution vector:\n"
     ]
    },
    {
     "data": {
      "text/plain": [
       "2-element Vector{Float64}:\n",
       " -2.0\n",
       "  1.0"
      ]
     },
     "metadata": {},
     "output_type": "display_data"
    }
   ],
   "source": [
    "println(\" any u₂ will solve the equation so set it to 1\")\n",
    "u₂ = 1\n",
    "println(\"back substitution solve for u₁ = (1 / a₁′[1]) * (b′[1] - (u₂ * a₂′[1]))\")\n",
    "u₁ = (1 / a₁′[1]) * (b′[1] - (u₂ * a₂′[1]))\n",
    "println(\"solution vector:\")\n",
    "[u₁, u₂]"
   ]
  },
  {
   "cell_type": "code",
   "execution_count": 87,
   "metadata": {},
   "outputs": [
    {
     "name": "stdout",
     "output_type": "stream",
     "text": [
      "Matrix A: \n"
     ]
    },
    {
     "data": {
      "text/plain": [
       "2×2 Matrix{Int64}:\n",
       " 1  2\n",
       " 2  1"
      ]
     },
     "metadata": {},
     "output_type": "display_data"
    }
   ],
   "source": [
    "a₁ = [1, 2]\n",
    "a₂ = [2, 1]\n",
    "println(\"Matrix A: \")\n",
    "A = [a₁ a₂]"
   ]
  },
  {
   "cell_type": "code",
   "execution_count": 88,
   "metadata": {},
   "outputs": [
    {
     "name": "stdout",
     "output_type": "stream",
     "text": [
      "Vector b: \n"
     ]
    },
    {
     "data": {
      "text/plain": [
       "2-element Vector{Int64}:\n",
       " 0\n",
       " 0"
      ]
     },
     "metadata": {},
     "output_type": "display_data"
    }
   ],
   "source": [
    "println(\"Vector b: \")\n",
    "b = [0, 0]"
   ]
  },
  {
   "cell_type": "code",
   "execution_count": 89,
   "metadata": {},
   "outputs": [
    {
     "name": "stdout",
     "output_type": "stream",
     "text": [
      "Shear S₁: \n"
     ]
    },
    {
     "data": {
      "text/plain": [
       "2×2 Matrix{Float64}:\n",
       "  1.0  0.0\n",
       " -2.0  1.0"
      ]
     },
     "metadata": {},
     "output_type": "display_data"
    }
   ],
   "source": [
    "println(\"Shear S₁: \")\n",
    "S₁ = [1.0 0.0; -2.0 1.0]"
   ]
  },
  {
   "cell_type": "code",
   "execution_count": 90,
   "metadata": {},
   "outputs": [
    {
     "name": "stdout",
     "output_type": "stream",
     "text": [
      "Forward elimination of a₁ using shear S₁: \n"
     ]
    },
    {
     "data": {
      "text/plain": [
       "2-element Vector{Float64}:\n",
       " 1.0\n",
       " 0.0"
      ]
     },
     "metadata": {},
     "output_type": "display_data"
    }
   ],
   "source": [
    "println(\"Forward elimination of a₁ using shear S₁: \")\n",
    "a₁′ = S₁ * a₁"
   ]
  },
  {
   "cell_type": "code",
   "execution_count": 91,
   "metadata": {},
   "outputs": [
    {
     "name": "stdout",
     "output_type": "stream",
     "text": [
      "Forward elimination of a₂ using shear S₁: \n"
     ]
    },
    {
     "data": {
      "text/plain": [
       "2-element Vector{Float64}:\n",
       "  2.0\n",
       " -3.0"
      ]
     },
     "metadata": {},
     "output_type": "display_data"
    }
   ],
   "source": [
    "println(\"Forward elimination of a₂ using shear S₁: \")\n",
    "a₂′ = S₁ * a₂\n"
   ]
  },
  {
   "cell_type": "code",
   "execution_count": 92,
   "metadata": {},
   "outputs": [
    {
     "name": "stdout",
     "output_type": "stream",
     "text": [
      "Forward elimination of b using shear S₁: \n"
     ]
    },
    {
     "data": {
      "text/plain": [
       "2-element Vector{Float64}:\n",
       " 0.0\n",
       " 0.0"
      ]
     },
     "metadata": {},
     "output_type": "display_data"
    }
   ],
   "source": [
    "println(\"Forward elimination of b using shear S₁: \")\n",
    "b′ = S₁ * b"
   ]
  },
  {
   "cell_type": "code",
   "execution_count": 120,
   "metadata": {},
   "outputs": [
    {
     "name": "stdout",
     "output_type": "stream",
     "text": [
      "back substitution solve for u₂ = b′[2] / a₂′[2]:\n"
     ]
    },
    {
     "data": {
      "text/plain": [
       "-0.0"
      ]
     },
     "metadata": {},
     "output_type": "display_data"
    }
   ],
   "source": [
    "println(\"back substitution solve for u₂ = b′[2] / a₂′[2]:\")\n",
    "u₂ = b′[2] / a₂′[2]\n"
   ]
  },
  {
   "cell_type": "code",
   "execution_count": 94,
   "metadata": {},
   "outputs": [
    {
     "name": "stdout",
     "output_type": "stream",
     "text": [
      "back substitution solve for u₁ = (1 / a₁′[1]) * (b′[1] - (u₂ * a₂′[1]))\n"
     ]
    },
    {
     "data": {
      "text/plain": [
       "-2.0"
      ]
     },
     "metadata": {},
     "output_type": "display_data"
    }
   ],
   "source": [
    "println(\"back substitution solve for u₁ = (1 / a₁′[1]) * (b′[1] - (u₂ * a₂′[1]))\")\n",
    "u₁ = (1 / a₁′[1]) * (b′[1] - (u₂ * a₂′[1]))\n"
   ]
  },
  {
   "cell_type": "code",
   "execution_count": 95,
   "metadata": {},
   "outputs": [
    {
     "name": "stdout",
     "output_type": "stream",
     "text": [
      "solution vector:\n"
     ]
    },
    {
     "data": {
      "text/plain": [
       "2-element Vector{Float64}:\n",
       " -2.0\n",
       "  1.0"
      ]
     },
     "metadata": {},
     "output_type": "display_data"
    }
   ],
   "source": [
    "println(\"solution vector:\")\n",
    "[u₁, u₂]"
   ]
  },
  {
   "cell_type": "markdown",
   "metadata": {},
   "source": [
    "### Column pivot"
   ]
  },
  {
   "cell_type": "code",
   "execution_count": 96,
   "metadata": {},
   "outputs": [
    {
     "name": "stdout",
     "output_type": "stream",
     "text": [
      "Matrix A: \n"
     ]
    },
    {
     "data": {
      "text/plain": [
       "2×2 Matrix{Float64}:\n",
       " 0.0  0.5\n",
       " 0.0  0.0"
      ]
     },
     "metadata": {},
     "output_type": "display_data"
    }
   ],
   "source": [
    "\n",
    "a₁ = [0, 0]\n",
    "a₂ = [1/2, 0]\n",
    "println(\"Matrix A: \")\n",
    "A = [a₁ a₂]"
   ]
  },
  {
   "cell_type": "code",
   "execution_count": 97,
   "metadata": {},
   "outputs": [
    {
     "data": {
      "text/plain": [
       "2-element Vector{Int64}:\n",
       " 0\n",
       " 0"
      ]
     },
     "metadata": {},
     "output_type": "display_data"
    }
   ],
   "source": [
    "b = [0,0]"
   ]
  },
  {
   "cell_type": "code",
   "execution_count": 98,
   "metadata": {},
   "outputs": [
    {
     "name": "stdout",
     "output_type": "stream",
     "text": [
      "column pivot: \n"
     ]
    },
    {
     "data": {
      "text/plain": [
       "2×2 Matrix{Float64}:\n",
       " 0.5  0.0\n",
       " 0.0  0.0"
      ]
     },
     "metadata": {},
     "output_type": "display_data"
    }
   ],
   "source": [
    "println(\"column pivot: \")\n",
    "P = [0 1; 1 0]\n",
    "A′ = A * P"
   ]
  },
  {
   "cell_type": "code",
   "execution_count": 99,
   "metadata": {},
   "outputs": [
    {
     "name": "stdout",
     "output_type": "stream",
     "text": [
      "back substitution to calculate [u₂, u₁] setting u₁ = 1\n",
      "and u₂ = (1 / a₁[1]) * (b[1] - (u₁ * a₂[1]))\n"
     ]
    },
    {
     "data": {
      "text/plain": [
       "2-element Vector{Float64}:\n",
       " 1.0\n",
       " 0.0"
      ]
     },
     "metadata": {},
     "output_type": "display_data"
    }
   ],
   "source": [
    "println(\"back substitution to calculate [u₂, u₁] setting u₁ = 1\")\n",
    "a₁ = [A′[1, 1], A′[2, 1]]\n",
    "a₂ = [A′[1, 2], A′[2, 2]]\n",
    "u₁ = 1\n",
    "println(\"and u₂ = (1 / a₁[1]) * (b[1] - (u₁ * a₂[1]))\")\n",
    "u₂ = (1 / a₁[1]) * (b[1] - (u₁ * a₂[1]))\n",
    "u′ = [u₂, u₁]\n",
    "u = P * u′ "
   ]
  },
  {
   "cell_type": "code",
   "execution_count": 100,
   "metadata": {},
   "outputs": [
    {
     "name": "stdout",
     "output_type": "stream",
     "text": [
      "Now test result by calculation A * u which should be the 0 vector\n"
     ]
    },
    {
     "data": {
      "text/plain": [
       "2-element Vector{Float64}:\n",
       " 0.0\n",
       " 0.0"
      ]
     },
     "metadata": {},
     "output_type": "display_data"
    }
   ],
   "source": [
    "println(\"Now test result by calculation A * u which should be the 0 vector\")\n",
    "A * u"
   ]
  },
  {
   "cell_type": "markdown",
   "metadata": {},
   "source": [
    "### Inverse Matrix"
   ]
  },
  {
   "cell_type": "code",
   "execution_count": 101,
   "metadata": {},
   "outputs": [
    {
     "name": "stdout",
     "output_type": "stream",
     "text": [
      "Matrix A′ after first shear: \n"
     ]
    },
    {
     "data": {
      "text/plain": [
       "2×2 Matrix{Float64}:\n",
       " 2.0  4.0\n",
       " 0.0  4.0"
      ]
     },
     "metadata": {},
     "output_type": "display_data"
    }
   ],
   "source": [
    "println(\"Matrix A′ after first shear: \")\n",
    "a₁ = [2, 1]\n",
    "a₂ = [4, 6]\n",
    "A = [a₁ a₂]\n",
    "b = [4, 4]\n",
    "S₁ = [1 0; -1/2 1]\n",
    "a₁′ = S₁ * a₁\n",
    "a₂′ = S₁ * a₂\n",
    "b′ = S₁ * b\n",
    "A′ = [a₁′ a₂′]"
   ]
  },
  {
   "cell_type": "code",
   "execution_count": 102,
   "metadata": {},
   "outputs": [
    {
     "name": "stdout",
     "output_type": "stream",
     "text": [
      "Matrix A′′ after second shear: \n"
     ]
    },
    {
     "data": {
      "text/plain": [
       "2×2 Matrix{Float64}:\n",
       " 2.0  0.0\n",
       " 0.0  4.0"
      ]
     },
     "metadata": {},
     "output_type": "display_data"
    }
   ],
   "source": [
    "println(\"Matrix A′′ after second shear: \")\n",
    "S₂ = [1 -1; 0 1]\n",
    "a₁′′ = S₂ * a₁′\n",
    "a₂′′ = S₂ * a₂′\n",
    "b′′ = S₂ * b′\n",
    "A′′ = [a₁′′ a₂′′]"
   ]
  },
  {
   "cell_type": "code",
   "execution_count": 103,
   "metadata": {},
   "outputs": [
    {
     "name": "stdout",
     "output_type": "stream",
     "text": [
      "Matrix A′′′ after third shear: \n"
     ]
    },
    {
     "data": {
      "text/plain": [
       "2×2 Matrix{Float64}:\n",
       " 1.0  0.0\n",
       " 0.0  1.0"
      ]
     },
     "metadata": {},
     "output_type": "display_data"
    }
   ],
   "source": [
    "println(\"Matrix A′′′ after third shear: \")\n",
    "S₃ = [1/2 0; 0 1/4]\n",
    "a₁′′′ = S₃ * a₁′′\n",
    "a₂′′′ = S₃ * a₂′′\n",
    "b′′′ = S₃ * b′′\n",
    "A′′′ = [a₁′′′ a₂′′′]"
   ]
  },
  {
   "cell_type": "code",
   "execution_count": 104,
   "metadata": {},
   "outputs": [
    {
     "name": "stdout",
     "output_type": "stream",
     "text": [
      "Matrix B in equation u = Bb is S₃ * S₂ * S₁: \n"
     ]
    },
    {
     "data": {
      "text/plain": [
       "2×2 Matrix{Float64}:\n",
       "  0.75   -0.5\n",
       " -0.125   0.25"
      ]
     },
     "metadata": {},
     "output_type": "display_data"
    }
   ],
   "source": [
    "println(\"Matrix B in equation u = Bb is S₃ * S₂ * S₁: \")\n",
    "B = S₃ * S₂ * S₁"
   ]
  },
  {
   "cell_type": "code",
   "execution_count": 105,
   "metadata": {},
   "outputs": [
    {
     "name": "stdout",
     "output_type": "stream",
     "text": [
      "Vector B * b should equal b′′′(which is u): \n"
     ]
    },
    {
     "data": {
      "text/plain": [
       "true"
      ]
     },
     "metadata": {},
     "output_type": "display_data"
    }
   ],
   "source": [
    "println(\"Vector B * b should equal b′′′(which is u): \")\n",
    "u = b′′′\n",
    "B * b == u\n"
   ]
  },
  {
   "cell_type": "code",
   "execution_count": 106,
   "metadata": {},
   "outputs": [
    {
     "name": "stdout",
     "output_type": "stream",
     "text": [
      "Matrix B is the inverse of A: \n"
     ]
    },
    {
     "data": {
      "text/plain": [
       "true"
      ]
     },
     "metadata": {},
     "output_type": "display_data"
    }
   ],
   "source": [
    "println(\"Matrix B is the inverse of A: \")\n",
    "B == inv(A)"
   ]
  },
  {
   "cell_type": "code",
   "execution_count": 107,
   "metadata": {},
   "outputs": [
    {
     "name": "stdout",
     "output_type": "stream",
     "text": [
      "Finally we show u = inv(A) * b: \n"
     ]
    },
    {
     "data": {
      "text/plain": [
       "true"
      ]
     },
     "metadata": {},
     "output_type": "display_data"
    }
   ],
   "source": [
    "println(\"Finally we show u = inv(A) * b: \")\n",
    "u == inv(A) * b"
   ]
  },
  {
   "cell_type": "code",
   "execution_count": 108,
   "metadata": {},
   "outputs": [
    {
     "data": {
      "text/plain": [
       "true"
      ]
     },
     "metadata": {},
     "output_type": "display_data"
    }
   ],
   "source": [
    "inv(A) == A\\I\n",
    "\n"
   ]
  },
  {
   "cell_type": "code",
   "execution_count": 109,
   "metadata": {},
   "outputs": [
    {
     "data": {
      "text/plain": [
       "true"
      ]
     },
     "metadata": {},
     "output_type": "display_data"
    }
   ],
   "source": [
    "A \\ b == u"
   ]
  },
  {
   "cell_type": "markdown",
   "metadata": {},
   "source": [
    "### Rotation Matrix and Inverse"
   ]
  },
  {
   "cell_type": "code",
   "execution_count": 110,
   "metadata": {},
   "outputs": [
    {
     "name": "stdout",
     "output_type": "stream",
     "text": [
      "The inverse of the rotation matrix equals the transpose of the rotation matrix\n"
     ]
    },
    {
     "data": {
      "text/plain": [
       "true"
      ]
     },
     "metadata": {},
     "output_type": "display_data"
    }
   ],
   "source": [
    "println(\"The inverse of the rotation matrix equals the transpose of the rotation matrix\")\n",
    "Aᵣ = rotation_matrix(45)\n",
    "A₋₁ = inv(Aᵣ)\n",
    "Aₜ = transpose(Aᵣ)\n",
    "Aₜ== A₋₁\n"
   ]
  },
  {
   "cell_type": "code",
   "execution_count": 111,
   "metadata": {},
   "outputs": [
    {
     "name": "stdout",
     "output_type": "stream",
     "text": [
      "a₁ is the first column vector of the rotation matrix: \n",
      "[0.707107, 0.707107]\n",
      "a₂ is the first column vector of the rotation matrix: \n",
      "[-0.707107, 0.707107]\n",
      "The following shows the rotation matrix is orthogonal and a₁ and a₂ are orthonormal\n",
      "The norm of column vector a₁ is 1.0\n",
      "The norm of column vector a₂ is 1.0\n",
      "The dot product of a₁ and a₂ is 0.0\n",
      "The angle between a₁ and a₂ is 90.0\n",
      "The determinant of the rotation matrix is 1.0\n"
     ]
    }
   ],
   "source": [
    "\n",
    "a₁ = [0.707107, 0.707107]\n",
    "println(\"a₁ is the first column vector of the rotation matrix: \\n\", a₁)\n",
    "a₂ = [-0.707107, 0.707107]\n",
    "println(\"a₂ is the first column vector of the rotation matrix: \\n\", a₂)\n",
    "println(\"The following shows the rotation matrix is orthogonal and a₁ and a₂ are orthonormal\")\n",
    "println(\"The norm of column vector a₁ is \", round(norm(a₁); digits = 5))\n",
    "println(\"The norm of column vector a₂ is \", round(norm(a₂); digits = 5))\n",
    "println(\"The dot product of a₁ and a₂ is \", abs(round(dot(a₁, a₂); digits = 5)))\n",
    "println(\"The angle between a₁ and a₂ is \", round(acos(dot(a₁, a₂) / (norm(a₁) * norm(a₂))) * 180 / π; digits = 5))\n",
    "println(\"The determinant of the rotation matrix is \", round(det([a₁ a₂]); digits = 5))"
   ]
  },
  {
   "cell_type": "markdown",
   "metadata": {},
   "source": [
    "### Building an Inverse Matrix"
   ]
  },
  {
   "cell_type": "markdown",
   "metadata": {},
   "source": [
    "Let's find the inverse of the matrix:\n",
    "$$\n",
    "A=\\left[\\begin{array}{rr}\n",
    "-1 & 4 \\\\\n",
    "2 & 2\n",
    "\\end{array}\\right]\n",
    "$$\n",
    "\n",
    "Our two simultaneous systems are\n",
    "$$\n",
    "\\left[\\begin{array}{rr}\n",
    "-1 & 4 \\\\\n",
    "2 & 2\n",
    "\\end{array}\\right]\\left[\\begin{array}{ll}\n",
    "\\overline{\\mathbf{a}}_1 & \\overline{\\mathbf{a}}_2\n",
    "\\end{array}\\right]=\\left[\\begin{array}{ll}\n",
    "1 & 0 \\\\\n",
    "0 & 1\n",
    "\\end{array}\\right]\n",
    "$$"
   ]
  },
  {
   "cell_type": "code",
   "execution_count": 112,
   "metadata": {},
   "outputs": [
    {
     "data": {
      "text/plain": [
       "2×2 Matrix{Int64}:\n",
       " -1  4\n",
       "  2  2"
      ]
     },
     "metadata": {},
     "output_type": "display_data"
    }
   ],
   "source": [
    "a₁ = [-1, 2]\n",
    "a₂ = [4, 2]\n",
    "A = [a₁ a₂]"
   ]
  },
  {
   "cell_type": "markdown",
   "metadata": {},
   "source": [
    "The first shear takes this to\n",
    "$$\n",
    "\\left[\\begin{array}{rr}\n",
    "-1 & 4 \\\\\n",
    "0 & 10\n",
    "\\end{array}\\right]\\left[\\begin{array}{ll}\n",
    "\\overline{\\mathbf{a}}_1 & \\overline{\\mathbf{a}}_2\n",
    "\\end{array}\\right]=\\left[\\begin{array}{ll}\n",
    "1 & 0 \\\\\n",
    "2 & 1\n",
    "\\end{array}\\right]\n",
    "$$"
   ]
  },
  {
   "cell_type": "code",
   "execution_count": 113,
   "metadata": {},
   "outputs": [
    {
     "data": {
      "text/plain": [
       "2×2 Matrix{Int64}:\n",
       " -1   4\n",
       "  0  10"
      ]
     },
     "metadata": {},
     "output_type": "display_data"
    }
   ],
   "source": [
    "\n",
    "S₁ = [1 0; 2 1]\n",
    "A′ = S₁ * A  \n",
    "\n"
   ]
  },
  {
   "cell_type": "code",
   "execution_count": 114,
   "metadata": {},
   "outputs": [
    {
     "data": {
      "text/plain": [
       "2×2 Matrix{Int64}:\n",
       " 1  0\n",
       " 2  1"
      ]
     },
     "metadata": {},
     "output_type": "display_data"
    }
   ],
   "source": [
    "R = S₁ * I"
   ]
  },
  {
   "cell_type": "markdown",
   "metadata": {},
   "source": [
    "The second shear Yields:\n",
    "$$\n",
    "\\left[\\begin{array}{rr}\n",
    "-1 & 4 \\\\\n",
    "0 & 1\n",
    "\\end{array}\\right]\\left[\\begin{array}{ll}\n",
    "\\overline{\\mathbf{a}}_1 & \\overline{\\mathbf{a}}_2\n",
    "\\end{array}\\right]=\\left[\\begin{array}{cc}\n",
    "1 & 0 \\\\\n",
    "2/10 & 1/10\n",
    "\\end{array}\\right]\n",
    "$$"
   ]
  },
  {
   "cell_type": "code",
   "execution_count": 115,
   "metadata": {},
   "outputs": [
    {
     "data": {
      "text/plain": [
       "2×2 Matrix{Float64}:\n",
       " -1.0  4.0\n",
       "  0.0  1.0"
      ]
     },
     "metadata": {},
     "output_type": "display_data"
    }
   ],
   "source": [
    "S₂ = [1 0; 0 1/10]\n",
    "A′′ = S₂ * A′"
   ]
  },
  {
   "cell_type": "code",
   "execution_count": 116,
   "metadata": {},
   "outputs": [
    {
     "data": {
      "text/plain": [
       "2×2 Matrix{Float64}:\n",
       " -1.0  4.0\n",
       "  0.0  1.0"
      ]
     },
     "metadata": {},
     "output_type": "display_data"
    }
   ],
   "source": [
    "S₂ * S₁ * A "
   ]
  },
  {
   "cell_type": "code",
   "execution_count": 117,
   "metadata": {},
   "outputs": [
    {
     "data": {
      "text/plain": [
       "2×2 Matrix{Float64}:\n",
       " 1.0  0.0\n",
       " 0.2  0.1"
      ]
     },
     "metadata": {},
     "output_type": "display_data"
    }
   ],
   "source": [
    "R′ = S₂ * R"
   ]
  },
  {
   "cell_type": "markdown",
   "metadata": {},
   "source": [
    "The Third shear Yields:\n",
    "$$\n",
    "\\left[\\begin{array}{ll}\n",
    "1 & 0 \\\\\n",
    "0 & 1\n",
    "\\end{array}\\right]\\left[\\begin{array}{ll}\n",
    "\\overline{\\mathbf{a}}_1 & \\overline{\\mathbf{a}}_2\n",
    "\\end{array}\\right]=\\left[\\begin{array}{rr}\n",
    "-2 / 10 & 4 / 10 \\\\\n",
    "2 / 10 & 1 / 10\n",
    "\\end{array}\\right] .\n",
    "$$"
   ]
  },
  {
   "cell_type": "code",
   "execution_count": 118,
   "metadata": {},
   "outputs": [
    {
     "data": {
      "text/plain": [
       "2×2 Matrix{Float64}:\n",
       " 1.0  0.0\n",
       " 0.0  1.0"
      ]
     },
     "metadata": {},
     "output_type": "display_data"
    }
   ],
   "source": [
    "S₃ = [-1 4; 0 1]\n",
    "A′′′ = S₃ * A′′"
   ]
  },
  {
   "cell_type": "code",
   "execution_count": 119,
   "metadata": {},
   "outputs": [
    {
     "data": {
      "text/plain": [
       "2×2 Matrix{Float64}:\n",
       " 1.0  0.0\n",
       " 0.0  1.0"
      ]
     },
     "metadata": {},
     "output_type": "display_data"
    }
   ],
   "source": [
    "round.(S₃ * S₂ * S₁* A ; digits = 5)"
   ]
  },
  {
   "cell_type": "code",
   "execution_count": 120,
   "metadata": {},
   "outputs": [
    {
     "data": {
      "text/plain": [
       "2×2 Matrix{Float64}:\n",
       " -0.2  0.4\n",
       "  0.2  0.1"
      ]
     },
     "metadata": {},
     "output_type": "display_data"
    }
   ],
   "source": [
    "R′′ = S₃ * R′"
   ]
  },
  {
   "cell_type": "code",
   "execution_count": 121,
   "metadata": {},
   "outputs": [
    {
     "data": {
      "text/plain": [
       "2×2 Matrix{Float64}:\n",
       " -0.2  0.4\n",
       "  0.2  0.1"
      ]
     },
     "metadata": {},
     "output_type": "display_data"
    }
   ],
   "source": [
    "S₃ * S₂ * S₁"
   ]
  },
  {
   "cell_type": "code",
   "execution_count": 122,
   "metadata": {},
   "outputs": [
    {
     "data": {
      "text/plain": [
       "true"
      ]
     },
     "metadata": {},
     "output_type": "display_data"
    }
   ],
   "source": [
    "R′′ == S₃ * S₂ * S₁  "
   ]
  },
  {
   "cell_type": "code",
   "execution_count": 123,
   "metadata": {},
   "outputs": [
    {
     "data": {
      "text/plain": [
       "2×2 Matrix{Float64}:\n",
       " -1.0  4.0\n",
       "  2.0  2.0"
      ]
     },
     "metadata": {},
     "output_type": "display_data"
    }
   ],
   "source": [
    "A * A′′′ "
   ]
  },
  {
   "cell_type": "code",
   "execution_count": 124,
   "metadata": {},
   "outputs": [
    {
     "data": {
      "text/plain": [
       "true"
      ]
     },
     "metadata": {},
     "output_type": "display_data"
    }
   ],
   "source": [
    "inv(A) == round.(S₃ * S₂ * S₁; digits = 5)"
   ]
  },
  {
   "cell_type": "markdown",
   "metadata": {},
   "source": [
    "### Defining a Map"
   ]
  },
  {
   "cell_type": "markdown",
   "metadata": {},
   "source": [
    "Start with two vectors v₁ = [1,1] and v₂ = [-1,1] and find a map that takes v₁ to [-1,-1] and v₂ to [1, -1]."
   ]
  },
  {
   "cell_type": "code",
   "execution_count": 125,
   "metadata": {},
   "outputs": [
    {
     "data": {
      "text/plain": [
       "2×2 Matrix{Int64}:\n",
       " 1  -1\n",
       " 1   1"
      ]
     },
     "metadata": {},
     "output_type": "display_data"
    }
   ],
   "source": [
    "v₁ = [1, 1]\n",
    "v₂ = [-1, 1]\n",
    "V = [v₁ v₂]"
   ]
  },
  {
   "cell_type": "code",
   "execution_count": 126,
   "metadata": {},
   "outputs": [
    {
     "data": {
      "text/plain": [
       "2×2 Matrix{Int64}:\n",
       " -1   1\n",
       " -1  -1"
      ]
     },
     "metadata": {},
     "output_type": "display_data"
    }
   ],
   "source": [
    "v₁′ = [-1, -1]\n",
    "v₂′ = [1, -1]\n",
    "V′ = [v₁′ v₂′]"
   ]
  },
  {
   "cell_type": "markdown",
   "metadata": {},
   "source": [
    "Calculate the inverse of the matrix V and use that to calculate the map A = V′*V₋₁"
   ]
  },
  {
   "cell_type": "code",
   "execution_count": 127,
   "metadata": {},
   "outputs": [
    {
     "data": {
      "text/plain": [
       "2×2 Matrix{Float64}:\n",
       "  0.5  0.5\n",
       " -0.5  0.5"
      ]
     },
     "metadata": {},
     "output_type": "display_data"
    }
   ],
   "source": [
    "\n",
    "V₋₁ = inv(V)"
   ]
  },
  {
   "cell_type": "code",
   "execution_count": 128,
   "metadata": {},
   "outputs": [
    {
     "name": "stdout",
     "output_type": "stream",
     "text": [
      "V₋₁ * V should equal the identity matrix\n"
     ]
    },
    {
     "data": {
      "text/plain": [
       "2×2 Matrix{Float64}:\n",
       " 1.0  0.0\n",
       " 0.0  1.0"
      ]
     },
     "metadata": {},
     "output_type": "display_data"
    }
   ],
   "source": [
    "println(\"V₋₁ * V should equal the identity matrix\")\n",
    "V₋₁ * V"
   ]
  },
  {
   "cell_type": "code",
   "execution_count": 129,
   "metadata": {},
   "outputs": [
    {
     "name": "stdout",
     "output_type": "stream",
     "text": [
      "calculate the linear map A by multiplying the target basis V′ and the inverse of the source basis V\n"
     ]
    },
    {
     "data": {
      "text/plain": [
       "2×2 Matrix{Float64}:\n",
       " -1.0   0.0\n",
       "  0.0  -1.0"
      ]
     },
     "metadata": {},
     "output_type": "display_data"
    }
   ],
   "source": [
    "println(\"calculate the linear map A by multiplying the target basis V′ and the inverse of the source basis V\")\n",
    "A = V′ * V₋₁"
   ]
  },
  {
   "cell_type": "code",
   "execution_count": 130,
   "metadata": {},
   "outputs": [
    {
     "name": "stdout",
     "output_type": "stream",
     "text": [
      "the linear mapping of V to V′ is given by the matrix A\n"
     ]
    },
    {
     "data": {
      "text/plain": [
       "2×2 Matrix{Float64}:\n",
       " -1.0   1.0\n",
       " -1.0  -1.0"
      ]
     },
     "metadata": {},
     "output_type": "display_data"
    }
   ],
   "source": [
    "println(\"the linear mapping of V to V′ is given by the matrix A\")\n",
    "A * V"
   ]
  },
  {
   "cell_type": "markdown",
   "metadata": {},
   "source": [
    "### Switch Basis"
   ]
  },
  {
   "cell_type": "code",
   "execution_count": 131,
   "metadata": {},
   "outputs": [
    {
     "name": "stdout",
     "output_type": "stream",
     "text": [
      "the vector vₐ′ in the [a₁, a₂] basis is \n",
      "a₁ in the target basis is [2, 1]\n",
      "a₂ in the target basis is [-2, 4]\n",
      "the matrix A maps a vector in the [a₁, a₂]-system to the [e₁, e₂]-system and is called the change of basis matrix\n"
     ]
    },
    {
     "data": {
      "text/plain": [
       "2×2 Matrix{Int64}:\n",
       " 2  -2\n",
       " 1   4"
      ]
     },
     "metadata": {},
     "output_type": "display_data"
    }
   ],
   "source": [
    "println(\"the vector vₐ′ in the [a₁, a₂] basis is \")\n",
    "vₐ′ = [1 / 2, 1]\n",
    "a₁ = [2,1]\n",
    "a₂ = [-2,4]\n",
    "e₁ = [1,0]\n",
    "e₂ = [0,1]\n",
    "a₁ₑ = 2 * e₁ + 1 * e₂\n",
    "println(\"a₁ in the target basis is \", a₁ₑ)\n",
    "a₂ₑ = -2 * e₁ + 4 * e₂\n",
    "println(\"a₂ in the target basis is \", a₂ₑ)\n",
    "println(\"the matrix A maps a vector in the [a₁, a₂]-system to the [e₁, e₂]-system and is called the change of basis matrix\")\n",
    "A = [a₁ₑ a₂ₑ]"
   ]
  },
  {
   "cell_type": "code",
   "execution_count": 132,
   "metadata": {},
   "outputs": [
    {
     "name": "stdout",
     "output_type": "stream",
     "text": [
      "the vector vₑ′ in the target basis is given by the matrix A * vₐ′\n"
     ]
    },
    {
     "data": {
      "text/plain": [
       "2-element Vector{Float64}:\n",
       " -1.0\n",
       "  4.5"
      ]
     },
     "metadata": {},
     "output_type": "display_data"
    }
   ],
   "source": [
    "println(\"the vector vₑ′ in the target basis is given by the matrix A * vₐ′\")\n",
    "vₑ′ = A * vₐ′"
   ]
  },
  {
   "cell_type": "code",
   "execution_count": 133,
   "metadata": {},
   "outputs": [
    {
     "name": "stdout",
     "output_type": "stream",
     "text": [
      "Let's first apply the inverse map to vₑ′\n"
     ]
    },
    {
     "data": {
      "text/plain": [
       "2-element Vector{Float64}:\n",
       " 0.5\n",
       " 1.0"
      ]
     },
     "metadata": {},
     "output_type": "display_data"
    }
   ],
   "source": [
    "println(\"Let's first apply the inverse map to vₑ′\")\n",
    "vₑ = inv(A) * vₑ′"
   ]
  },
  {
   "cell_type": "code",
   "execution_count": null,
   "metadata": {},
   "outputs": [],
   "source": []
  }
 ],
 "metadata": {
  "kernelspec": {
   "display_name": "Julia 1.11.5",
   "language": "julia",
   "name": "julia-1.11"
  },
  "language_info": {
   "file_extension": ".jl",
   "mimetype": "application/julia",
   "name": "julia",
   "version": "1.11.5"
  }
 },
 "nbformat": 4,
 "nbformat_minor": 2
}
